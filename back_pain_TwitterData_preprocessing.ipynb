{
 "cells": [
  {
   "cell_type": "markdown",
   "metadata": {
    "id": "P7vvIgC0Ob_E"
   },
   "source": [
    "#### The COVID-19 pandemic has changed our lifestyles, habits, and daily routine. Although some of impact of COVID-19 have been widely reported already, many effects of this pandemic are still to be discovered. \n",
    "\n",
    "#### Back pain is one of the most common chronic disorders, which not only can reduce work productivity and negatively affect the quality of life, but can also increase the economic and societal burden.\n",
    "\n",
    "#### Due to the lockdown and the necessity to work from home, concerns and complaints of back pain have dramatically emerged."
   ]
  },
  {
   "cell_type": "markdown",
   "metadata": {},
   "source": [
    "## Goal: Assess the changes in the frequency of reported physical back pain complaints reported during the COVID-19 pandemic. \n",
    "\n",
    "#### Specially, I am going to investigate differences in the number of back pain complaints between the pre-pandemic and during the pandemic. \n",
    "\n",
    "#### To do this, I am going to test the hypothesis: There is a statistically significant difference between the number of complaints regarding back pain during and before the COVID-19 pandemic."
   ]
  },
  {
   "cell_type": "markdown",
   "metadata": {},
   "source": [
    "\n",
    "\n",
    "#### This study investigates changes in the number of actual back pain complaints reported on Twitter over time. For this purpose, the following research steps have been followed: \n",
    "1. Conducting exploratory Twitter data analysis regarding back pain.\n",
    "2. Downloading relevant Twitter data.\n",
    "3. Defining and training an intelligent data filter based on tools from the machine learning (ML), deep learning (DL), and natural language processing (NLP) domain.\n",
    "4. Applying the trained filter to all data instances.\n",
    "5. Creating visualizations of filtered data.\n",
    "6. Testing the research hypotheses.\n"
   ]
  },
  {
   "cell_type": "markdown",
   "metadata": {},
   "source": [
    "# Data Acquisition: \n",
    "\n",
    "### - Only English language tweets were considered. I followed Twitter Developer Policy and used official Twitter API to download the necessary data.\n",
    "### - I considered Twitter data for the years 2019 and 2020. The year 2019 served as a baseline before pandemics, and data gathered in 2020 was labeled as COVID-19 related. \n",
    "### - Search term ‘back pain’ with localization set to the USA over two period: from 1 March 2019 to 1 December 2019, and from 1 March 2020 to 1 December 2020. A total of 15663 and 14634 USA localized tweets were collected for the selected period in years 2019 and 2020, respectively. After dropping tweets with duplicate texts, the final tweet numbers for this research are 26635 and 24497 for 2019 and 2020, respectively.\n"
   ]
  },
  {
   "cell_type": "markdown",
   "metadata": {},
   "source": [
    "# Preprocessing of Tweets:\n",
    "\n",
    "The downloaded Twitter data contained many posts unrelated to back pain or not necessarily expressing complaints regarding the presence of back pain. Therefore, in order to filter out the unwanted tweets and assess the true number of back pain complaints, I need to classify each tweet either as ‘complaining on back pain’ or ‘other’.\n",
    "Since manual labeling of the total number of tweets is not an option, I want to develop an automatic filtering method using ML, DL, and NLP. I am going to apply BERT pretraining approach model and machine learning classifier such as gradient boosting (XGBoost). \n",
    "\n",
    "### Also, tweet texts were preprocessed according to the following procedure:\n",
    "1. The links to images were replaced with the “_IMAGE” token.\n",
    "\n",
    "2. Redundant/repeating characters were removed (for example a ten times repeated ‘a’ was converted to ‘aa’).\n",
    "\n",
    "3. Textual elements representing retweets were converted to “_RETWEET” token.\n",
    "\n",
    "4. Other textual elements beginning with “http” or “https” or “youtu.be” were converted to “_URL” tokens.\n",
    "\n",
    "5. Language of tweets was assessed with use of langdetect module and all non-English tweets were removed.\n",
    "\n",
    "6. All emotions were converted to textual representations with use of emoji module.\n",
    "\n",
    "### In order to prepare the data for supervised training of our automatic filtering method, I decided to draw a random sample of 5000 tweets from the whole data corpus and labeled all selected tweets manually.\n"
   ]
  },
  {
   "cell_type": "markdown",
   "metadata": {},
   "source": [
    "### The preprocessing code is written in Python3 using google colab. The link is: \n",
    "\n",
    "https://colab.research.google.com/drive/1brqBum8DDSZbeFqqKo1YfnFEM3CaKFB5"
   ]
  },
  {
   "cell_type": "code",
   "execution_count": null,
   "metadata": {},
   "outputs": [],
   "source": []
  },
  {
   "cell_type": "code",
   "execution_count": null,
   "metadata": {},
   "outputs": [],
   "source": [
    "# Some modules need to be imported in advance to create connection between Colab and Drive\n",
    "!pip install -U -q PyDrive\n",
    "\n",
    "from pydrive.auth import GoogleAuth\n",
    "from pydrive.drive import GoogleDrive\n",
    "from google.colab import auth\n",
    "from oauth2client.client import GoogleCredentials"
   ]
  },
  {
   "cell_type": "code",
   "execution_count": null,
   "metadata": {
    "colab": {
     "base_uri": "https://localhost:8080/"
    },
    "id": "MkLffJjawVmn",
    "outputId": "0c42a049-dbe1-4650-bb15-c92742103ec7"
   },
   "outputs": [
    {
     "name": "stdout",
     "output_type": "stream",
     "text": [
      "Archive:  csv_date_renderedContent.zip\n",
      "   creating: csv_date_renderedContent/\n",
      "  inflating: csv_date_renderedContent/200901-200930_dc.csv  \n",
      "  inflating: csv_date_renderedContent/200801-200831_dc.csv  \n",
      "  inflating: csv_date_renderedContent/200701-200731_dc.csv  \n",
      "  inflating: csv_date_renderedContent/200601-200630_dc.csv  \n",
      "  inflating: csv_date_renderedContent/200501-200531_dc.csv  \n",
      "  inflating: csv_date_renderedContent/200401-200430_dc.csv  \n",
      "  inflating: csv_date_renderedContent/200301-200331_dc.csv  \n",
      "  inflating: csv_date_renderedContent/190901-190930_dc.csv  \n",
      "  inflating: csv_date_renderedContent/190801-190831_dc.csv  \n",
      "  inflating: csv_date_renderedContent/190701-190731_dc.csv  \n",
      "  inflating: csv_date_renderedContent/190601-190630_dc.csv  \n",
      "  inflating: csv_date_renderedContent/190501-190531_dc.csv  \n",
      "  inflating: csv_date_renderedContent/190401-190430_dc.csv  \n",
      "  inflating: csv_date_renderedContent/190301-190331_dc.csv  \n"
     ]
    }
   ],
   "source": [
    "# Autheticate e-mail ID\n",
    "#!pip install -U tensorflow-gpu==2.0.0 grpcio\n",
    "auth.authenticate_user()\n",
    "gauth = GoogleAuth()\n",
    "gauth.credentials = GoogleCredentials.get_application_default()\n",
    "drive = GoogleDrive(gauth)\n",
    "\n",
    "\n",
    "import os\n",
    "os.chdir('/content')\n",
    "\n",
    "\n",
    "\n",
    "file_variable_name = drive.CreateFile({'id':'1jrtWTv7EdTAowlCB6eUz_TSV0SFU28-A'})\n",
    "\n",
    "file_variable_name.GetContentFile('csv_date_renderedContent.zip')\n",
    "!unzip csv_date_renderedContent.zip\n"
   ]
  },
  {
   "cell_type": "code",
   "execution_count": null,
   "metadata": {
    "colab": {
     "base_uri": "https://localhost:8080/"
    },
    "id": "16_Vuk_jSNDb",
    "outputId": "c695b555-0060-4d49-9e8c-7a3d79ef18b4"
   },
   "outputs": [
    {
     "name": "stdout",
     "output_type": "stream",
     "text": [
      "Collecting datatable\n",
      "\u001b[?25l  Downloading https://files.pythonhosted.org/packages/80/07/7ca237758866497cbe076e31920a0320e28808f54fa75a5e2b0348d7aa8a/datatable-0.11.0-cp36-cp36m-manylinux2010_x86_64.whl (83.7MB)\n",
      "\u001b[K     |████████████████████████████████| 83.7MB 73kB/s \n",
      "\u001b[?25hInstalling collected packages: datatable\n",
      "Successfully installed datatable-0.11.0\n"
     ]
    }
   ],
   "source": [
    "import pandas as pd\n",
    "\n",
    "!pip3 install datatable\n",
    "import datatable as dt\n",
    "import os"
   ]
  },
  {
   "cell_type": "code",
   "execution_count": null,
   "metadata": {
    "id": "qbdzZOB5SND7"
   },
   "outputs": [],
   "source": [
    "file_list = ['200901-200930',\n",
    "             '200801-200831',\n",
    "             '200701-200731',\n",
    "             '200601-200630',\n",
    "             '200501-200531',\n",
    "             '200401-200430',\n",
    "             '200301-200331',\n",
    "\n",
    "             '190901-190930',\n",
    "             '190801-190831',\n",
    "             '190701-190731',\n",
    "             '190601-190630',\n",
    "             '190501-190531',\n",
    "             '190401-190430',\n",
    "             '190301-190331',\n",
    "             ]"
   ]
  },
  {
   "cell_type": "code",
   "execution_count": null,
   "metadata": {
    "colab": {
     "base_uri": "https://localhost:8080/"
    },
    "id": "i4KxQQa2SNEH",
    "outputId": "70ce6c1a-bbc3-4c0b-e986-cd6cf01b6847"
   },
   "outputs": [
    {
     "data": {
      "text/plain": [
       "['200901-200930_dc.csv',\n",
       " '200801-200831_dc.csv',\n",
       " '200701-200731_dc.csv',\n",
       " '200601-200630_dc.csv',\n",
       " '200501-200531_dc.csv',\n",
       " '200401-200430_dc.csv',\n",
       " '200301-200331_dc.csv',\n",
       " '190901-190930_dc.csv',\n",
       " '190801-190831_dc.csv',\n",
       " '190701-190731_dc.csv',\n",
       " '190601-190630_dc.csv',\n",
       " '190501-190531_dc.csv',\n",
       " '190401-190430_dc.csv',\n",
       " '190301-190331_dc.csv']"
      ]
     },
     "execution_count": 5,
     "metadata": {
      "tags": []
     },
     "output_type": "execute_result"
    }
   ],
   "source": [
    "flist = [f'{x}_dc.csv' for x in file_list]\n",
    "flist"
   ]
  },
  {
   "cell_type": "code",
   "execution_count": null,
   "metadata": {
    "colab": {
     "base_uri": "https://localhost:8080/"
    },
    "id": "FobO62xkz36O",
    "outputId": "fa241aff-6bd5-433e-9b53-83820f8c3a3c"
   },
   "outputs": [
    {
     "name": "stdout",
     "output_type": "stream",
     "text": [
      "/content\n"
     ]
    }
   ],
   "source": [
    "!pwd"
   ]
  },
  {
   "cell_type": "code",
   "execution_count": null,
   "metadata": {
    "id": "Q0h8u3sf5o-N"
   },
   "outputs": [],
   "source": [
    "df = pd.DataFrame()\n",
    "for ff in flist:\n",
    "  df_local = dt.fread(os.path.join('/content/csv_date_renderedContent',ff)).to_pandas()\n",
    "  df = pd.concat([df,df_local])\n",
    "\n",
    "df.columns = ['dummy','date','text','url']\n",
    "df.drop(['dummy','url'],axis=1, inplace=True)\n",
    "df.drop(0, axis=0, inplace=True)\n",
    "df.reset_index(drop=True, inplace=True)\n",
    "df['tweet_id'] = df.index\n",
    "df = df[['tweet_id','date','text']]"
   ]
  },
  {
   "cell_type": "code",
   "execution_count": null,
   "metadata": {
    "colab": {
     "base_uri": "https://localhost:8080/",
     "height": 423
    },
    "id": "bRo3seSP_fjK",
    "outputId": "dfc0b2de-b5f6-4798-a143-727424dc0062"
   },
   "outputs": [
    {
     "data": {
      "text/html": [
       "<div>\n",
       "<style scoped>\n",
       "    .dataframe tbody tr th:only-of-type {\n",
       "        vertical-align: middle;\n",
       "    }\n",
       "\n",
       "    .dataframe tbody tr th {\n",
       "        vertical-align: top;\n",
       "    }\n",
       "\n",
       "    .dataframe thead th {\n",
       "        text-align: right;\n",
       "    }\n",
       "</style>\n",
       "<table border=\"1\" class=\"dataframe\">\n",
       "  <thead>\n",
       "    <tr style=\"text-align: right;\">\n",
       "      <th></th>\n",
       "      <th>tweet_id</th>\n",
       "      <th>date</th>\n",
       "      <th>text</th>\n",
       "    </tr>\n",
       "  </thead>\n",
       "  <tbody>\n",
       "    <tr>\n",
       "      <th>0</th>\n",
       "      <td>0</td>\n",
       "      <td>2020-09-29 23:59:17+00:00</td>\n",
       "      <td>My lower back pain came out of no where tonigh...</td>\n",
       "    </tr>\n",
       "    <tr>\n",
       "      <th>1</th>\n",
       "      <td>1</td>\n",
       "      <td>2020-09-29 23:58:59+00:00</td>\n",
       "      <td>@FruitKace For me it is my hips. Lower back pa...</td>\n",
       "    </tr>\n",
       "    <tr>\n",
       "      <th>2</th>\n",
       "      <td>2</td>\n",
       "      <td>2020-09-29 23:58:54+00:00</td>\n",
       "      <td>\"We don't need bodyguard.\\nWe don't need coock...</td>\n",
       "    </tr>\n",
       "    <tr>\n",
       "      <th>3</th>\n",
       "      <td>3</td>\n",
       "      <td>2020-09-29 23:58:34+00:00</td>\n",
       "      <td>@AlexMLeo Rolfing saved me from back pain.</td>\n",
       "    </tr>\n",
       "    <tr>\n",
       "      <th>4</th>\n",
       "      <td>4</td>\n",
       "      <td>2020-09-29 23:57:11+00:00</td>\n",
       "      <td>Back pain and insomnia 🥴 https://t.co/3n0xEIkT21</td>\n",
       "    </tr>\n",
       "    <tr>\n",
       "      <th>...</th>\n",
       "      <td>...</td>\n",
       "      <td>...</td>\n",
       "      <td>...</td>\n",
       "    </tr>\n",
       "    <tr>\n",
       "      <th>530305</th>\n",
       "      <td>530305</td>\n",
       "      <td>2019-03-01 00:10:02+00:00</td>\n",
       "      <td>💵🎧Magno Garcia x General Back Pain “Ballin On ...</td>\n",
       "    </tr>\n",
       "    <tr>\n",
       "      <th>530306</th>\n",
       "      <td>530306</td>\n",
       "      <td>2019-03-01 00:08:36+00:00</td>\n",
       "      <td>@COMPLEXcsgo You still have back pain?</td>\n",
       "    </tr>\n",
       "    <tr>\n",
       "      <th>530307</th>\n",
       "      <td>530307</td>\n",
       "      <td>2019-03-01 00:05:01+00:00</td>\n",
       "      <td>This is everything I ever wanted and more. My ...</td>\n",
       "    </tr>\n",
       "    <tr>\n",
       "      <th>530308</th>\n",
       "      <td>530308</td>\n",
       "      <td>2019-03-01 00:01:56+00:00</td>\n",
       "      <td>A short video to kick off this month's campaig...</td>\n",
       "    </tr>\n",
       "    <tr>\n",
       "      <th>530309</th>\n",
       "      <td>530309</td>\n",
       "      <td>2019-03-01 00:00:52+00:00</td>\n",
       "      <td>Think stretching your hamstrings will help you...</td>\n",
       "    </tr>\n",
       "  </tbody>\n",
       "</table>\n",
       "<p>530310 rows × 3 columns</p>\n",
       "</div>"
      ],
      "text/plain": [
       "        tweet_id  ...                                               text\n",
       "0              0  ...  My lower back pain came out of no where tonigh...\n",
       "1              1  ...  @FruitKace For me it is my hips. Lower back pa...\n",
       "2              2  ...  \"We don't need bodyguard.\\nWe don't need coock...\n",
       "3              3  ...         @AlexMLeo Rolfing saved me from back pain.\n",
       "4              4  ...   Back pain and insomnia 🥴 https://t.co/3n0xEIkT21\n",
       "...          ...  ...                                                ...\n",
       "530305    530305  ...  💵🎧Magno Garcia x General Back Pain “Ballin On ...\n",
       "530306    530306  ...             @COMPLEXcsgo You still have back pain?\n",
       "530307    530307  ...  This is everything I ever wanted and more. My ...\n",
       "530308    530308  ...  A short video to kick off this month's campaig...\n",
       "530309    530309  ...  Think stretching your hamstrings will help you...\n",
       "\n",
       "[530310 rows x 3 columns]"
      ]
     },
     "execution_count": 10,
     "metadata": {
      "tags": []
     },
     "output_type": "execute_result"
    }
   ],
   "source": [
    "df"
   ]
  },
  {
   "cell_type": "code",
   "execution_count": null,
   "metadata": {
    "colab": {
     "base_uri": "https://localhost:8080/"
    },
    "id": "9SV8lMWgSNEq",
    "outputId": "c05c8945-02fd-4a31-aa72-d3bbf03799dc"
   },
   "outputs": [
    {
     "data": {
      "text/plain": [
       "530310"
      ]
     },
     "execution_count": 11,
     "metadata": {
      "tags": []
     },
     "output_type": "execute_result"
    }
   ],
   "source": [
    "len(df)"
   ]
  },
  {
   "cell_type": "code",
   "execution_count": null,
   "metadata": {
    "colab": {
     "base_uri": "https://localhost:8080/",
     "height": 206
    },
    "id": "J98u9uN3SNEy",
    "outputId": "56e85ca4-8142-4762-c7e0-d246a6714a9a"
   },
   "outputs": [
    {
     "data": {
      "text/html": [
       "<div>\n",
       "<style scoped>\n",
       "    .dataframe tbody tr th:only-of-type {\n",
       "        vertical-align: middle;\n",
       "    }\n",
       "\n",
       "    .dataframe tbody tr th {\n",
       "        vertical-align: top;\n",
       "    }\n",
       "\n",
       "    .dataframe thead th {\n",
       "        text-align: right;\n",
       "    }\n",
       "</style>\n",
       "<table border=\"1\" class=\"dataframe\">\n",
       "  <thead>\n",
       "    <tr style=\"text-align: right;\">\n",
       "      <th></th>\n",
       "      <th>tweet_id</th>\n",
       "      <th>date</th>\n",
       "      <th>text</th>\n",
       "    </tr>\n",
       "  </thead>\n",
       "  <tbody>\n",
       "    <tr>\n",
       "      <th>0</th>\n",
       "      <td>0</td>\n",
       "      <td>2020-09-29</td>\n",
       "      <td>My lower back pain came out of no where tonigh...</td>\n",
       "    </tr>\n",
       "    <tr>\n",
       "      <th>1</th>\n",
       "      <td>1</td>\n",
       "      <td>2020-09-29</td>\n",
       "      <td>@FruitKace For me it is my hips. Lower back pa...</td>\n",
       "    </tr>\n",
       "    <tr>\n",
       "      <th>2</th>\n",
       "      <td>2</td>\n",
       "      <td>2020-09-29</td>\n",
       "      <td>\"We don't need bodyguard.\\nWe don't need coock...</td>\n",
       "    </tr>\n",
       "    <tr>\n",
       "      <th>3</th>\n",
       "      <td>3</td>\n",
       "      <td>2020-09-29</td>\n",
       "      <td>@AlexMLeo Rolfing saved me from back pain.</td>\n",
       "    </tr>\n",
       "    <tr>\n",
       "      <th>4</th>\n",
       "      <td>4</td>\n",
       "      <td>2020-09-29</td>\n",
       "      <td>Back pain and insomnia 🥴 https://t.co/3n0xEIkT21</td>\n",
       "    </tr>\n",
       "  </tbody>\n",
       "</table>\n",
       "</div>"
      ],
      "text/plain": [
       "   tweet_id        date                                               text\n",
       "0         0  2020-09-29  My lower back pain came out of no where tonigh...\n",
       "1         1  2020-09-29  @FruitKace For me it is my hips. Lower back pa...\n",
       "2         2  2020-09-29  \"We don't need bodyguard.\\nWe don't need coock...\n",
       "3         3  2020-09-29         @AlexMLeo Rolfing saved me from back pain.\n",
       "4         4  2020-09-29   Back pain and insomnia 🥴 https://t.co/3n0xEIkT21"
      ]
     },
     "execution_count": 15,
     "metadata": {
      "tags": []
     },
     "output_type": "execute_result"
    }
   ],
   "source": [
    "df['date'] = df['date'].apply(lambda a: pd.to_datetime(a).date())\n",
    "df.head()"
   ]
  },
  {
   "cell_type": "code",
   "execution_count": null,
   "metadata": {
    "colab": {
     "base_uri": "https://localhost:8080/"
    },
    "id": "uYW4AJ73SNE-",
    "outputId": "e97e9538-5b1e-47af-99fb-3c0eadfdb2d4"
   },
   "outputs": [
    {
     "data": {
      "text/plain": [
       "0.5484716486583319"
      ]
     },
     "execution_count": 16,
     "metadata": {
      "tags": []
     },
     "output_type": "execute_result"
    }
   ],
   "source": [
    "import datetime\n",
    "len(df[df['date'] <= datetime.date(2019, 12, 1)])/len(df)"
   ]
  },
  {
   "cell_type": "code",
   "execution_count": null,
   "metadata": {
    "colab": {
     "base_uri": "https://localhost:8080/"
    },
    "id": "F1TqSczlSNFF",
    "outputId": "616cdabe-905b-48ef-859a-5571240ee6f3"
   },
   "outputs": [
    {
     "data": {
      "text/plain": [
       "0.4515283513416681"
      ]
     },
     "execution_count": 17,
     "metadata": {
      "tags": []
     },
     "output_type": "execute_result"
    }
   ],
   "source": [
    "len(df[df['date'] >= datetime.date(2019, 12, 1)])/len(df)"
   ]
  },
  {
   "cell_type": "code",
   "execution_count": null,
   "metadata": {
    "id": "F5MlqY70SNFL"
   },
   "outputs": [],
   "source": [
    "df['month'] = pd.to_datetime(df['date']).dt.to_period('M')\n",
    "\n",
    "# Get the start and end months\n",
    "months = df['month'].sort_values()\n",
    "start_month = months.iloc[0]\n",
    "end_month = months.iloc[-1]\n",
    "\n",
    "#index = pd.PeriodIndex(start=start_month, end=end_month)\n",
    "\n",
    "#df.groupby('month')['text'].count().reindex(index).plot.bar()"
   ]
  },
  {
   "cell_type": "code",
   "execution_count": null,
   "metadata": {
    "colab": {
     "base_uri": "https://localhost:8080/",
     "height": 651
    },
    "id": "KEARHYMqSNFR",
    "outputId": "be023312-1761-4b50-e1e5-4e8a72f61a01"
   },
   "outputs": [
    {
     "name": "stderr",
     "output_type": "stream",
     "text": [
      "/usr/local/lib/python3.6/dist-packages/ipykernel_launcher.py:1: FutureWarning: Passing a negative integer is deprecated in version 1.0 and will not be supported in future version. Instead, use None to not limit the column width.\n",
      "  \"\"\"Entry point for launching an IPython kernel.\n"
     ]
    },
    {
     "data": {
      "text/html": [
       "<div>\n",
       "<style scoped>\n",
       "    .dataframe tbody tr th:only-of-type {\n",
       "        vertical-align: middle;\n",
       "    }\n",
       "\n",
       "    .dataframe tbody tr th {\n",
       "        vertical-align: top;\n",
       "    }\n",
       "\n",
       "    .dataframe thead th {\n",
       "        text-align: right;\n",
       "    }\n",
       "</style>\n",
       "<table border=\"1\" class=\"dataframe\">\n",
       "  <thead>\n",
       "    <tr style=\"text-align: right;\">\n",
       "      <th></th>\n",
       "      <th>tweet_id</th>\n",
       "      <th>date</th>\n",
       "      <th>text</th>\n",
       "      <th>month</th>\n",
       "    </tr>\n",
       "  </thead>\n",
       "  <tbody>\n",
       "    <tr>\n",
       "      <th>0</th>\n",
       "      <td>0</td>\n",
       "      <td>2020-09-29</td>\n",
       "      <td>My lower back pain came out of no where tonight jeeeeeeeeez https://t.co/OHpzYJjY7p</td>\n",
       "      <td>2020-09</td>\n",
       "    </tr>\n",
       "    <tr>\n",
       "      <th>1</th>\n",
       "      <td>1</td>\n",
       "      <td>2020-09-29</td>\n",
       "      <td>@FruitKace For me it is my hips. Lower back pain = stretch, stretch, stretch.</td>\n",
       "      <td>2020-09</td>\n",
       "    </tr>\n",
       "    <tr>\n",
       "      <th>2</th>\n",
       "      <td>2</td>\n",
       "      <td>2020-09-29</td>\n",
       "      <td>\"We don't need bodyguard.\\nWe don't need coocker.\\nWe don't need house cleaner.\\n\\nWe need a fucking massager. Like, I'd literally do anything for some, people have no idea how painful it is to lay down and feel that back pain when all you want to do is to sleep. \"</td>\n",
       "      <td>2020-09</td>\n",
       "    </tr>\n",
       "    <tr>\n",
       "      <th>3</th>\n",
       "      <td>3</td>\n",
       "      <td>2020-09-29</td>\n",
       "      <td>@AlexMLeo Rolfing saved me from back pain.</td>\n",
       "      <td>2020-09</td>\n",
       "    </tr>\n",
       "    <tr>\n",
       "      <th>4</th>\n",
       "      <td>4</td>\n",
       "      <td>2020-09-29</td>\n",
       "      <td>Back pain and insomnia 🥴 https://t.co/3n0xEIkT21</td>\n",
       "      <td>2020-09</td>\n",
       "    </tr>\n",
       "    <tr>\n",
       "      <th>...</th>\n",
       "      <td>...</td>\n",
       "      <td>...</td>\n",
       "      <td>...</td>\n",
       "      <td>...</td>\n",
       "    </tr>\n",
       "    <tr>\n",
       "      <th>290855</th>\n",
       "      <td>290855</td>\n",
       "      <td>2020-03-01</td>\n",
       "      <td>#ArtificialIntelligence Can Scan Doctors’ Notes to Distinguish Between Types of Back Pain | @newswise ow.ly/swHW30qlEZt</td>\n",
       "      <td>2020-03</td>\n",
       "    </tr>\n",
       "    <tr>\n",
       "      <th>290856</th>\n",
       "      <td>290856</td>\n",
       "      <td>2020-03-01</td>\n",
       "      <td>Educating Chronic Back Pain Patients About Their Pain Increases Recovery    \\n\\nThe Patient Learns About What Movements He May Do, Gradually Increasing The Activity    \\n\\nChronic back pain patients are usually ... - bit.ly/2SLzXQ3</td>\n",
       "      <td>2020-03</td>\n",
       "    </tr>\n",
       "    <tr>\n",
       "      <th>290857</th>\n",
       "      <td>290857</td>\n",
       "      <td>2020-03-01</td>\n",
       "      <td>@atinykoo SO TELL ME AND SAVE ME THE BACK PAIN 😇😇😇 \\n\\npls 🥺 https://t.co/JpezxYcDUe</td>\n",
       "      <td>2020-03</td>\n",
       "    </tr>\n",
       "    <tr>\n",
       "      <th>290858</th>\n",
       "      <td>290858</td>\n",
       "      <td>2020-03-01</td>\n",
       "      <td>Standing For Excessive Time At Work Can Be Even Worse Than Excess Sitting Down    \\n\\nThe Blood Pools In The Legs And The Heart Has To Fight Against Gravity    \\n\\nSitting for too much time has been named “the n ... - justnobackpain.com/news/standing-… https://t.co/FOlh9Buaqz</td>\n",
       "      <td>2020-03</td>\n",
       "    </tr>\n",
       "    <tr>\n",
       "      <th>290859</th>\n",
       "      <td>290859</td>\n",
       "      <td>2020-03-01</td>\n",
       "      <td>Bosses tend to walk around the office more and have lower rates of back pain. Discover how acting like a boss, even if you aren't one, is good for your #health, #productivity, and #career via @inversedotcom bit.ly/388Kfhq https://t.co/itixwcOJWA</td>\n",
       "      <td>2020-03</td>\n",
       "    </tr>\n",
       "  </tbody>\n",
       "</table>\n",
       "<p>290860 rows × 4 columns</p>\n",
       "</div>"
      ],
      "text/plain": [
       "        tweet_id  ...    month\n",
       "0       0         ...  2020-09\n",
       "1       1         ...  2020-09\n",
       "2       2         ...  2020-09\n",
       "3       3         ...  2020-09\n",
       "4       4         ...  2020-09\n",
       "...    ..         ...      ...\n",
       "290855  290855    ...  2020-03\n",
       "290856  290856    ...  2020-03\n",
       "290857  290857    ...  2020-03\n",
       "290858  290858    ...  2020-03\n",
       "290859  290859    ...  2020-03\n",
       "\n",
       "[290860 rows x 4 columns]"
      ]
     },
     "execution_count": 19,
     "metadata": {
      "tags": []
     },
     "output_type": "execute_result"
    }
   ],
   "source": [
    "pd.set_option('display.max_colwidth', -1)\n",
    "df[df['date']>= datetime.date(2019, 12, 1)]"
   ]
  },
  {
   "cell_type": "code",
   "execution_count": null,
   "metadata": {
    "colab": {
     "base_uri": "https://localhost:8080/",
     "height": 648
    },
    "id": "DZTq72iaJKgc",
    "outputId": "417deb92-12d3-493e-b1c1-7d7bd4fa202a"
   },
   "outputs": [
    {
     "data": {
      "text/html": [
       "<div>\n",
       "<style scoped>\n",
       "    .dataframe tbody tr th:only-of-type {\n",
       "        vertical-align: middle;\n",
       "    }\n",
       "\n",
       "    .dataframe tbody tr th {\n",
       "        vertical-align: top;\n",
       "    }\n",
       "\n",
       "    .dataframe thead th {\n",
       "        text-align: right;\n",
       "    }\n",
       "</style>\n",
       "<table border=\"1\" class=\"dataframe\">\n",
       "  <thead>\n",
       "    <tr style=\"text-align: right;\">\n",
       "      <th></th>\n",
       "      <th>tweet_id</th>\n",
       "      <th>date</th>\n",
       "      <th>text</th>\n",
       "      <th>month</th>\n",
       "      <th>tidy_text</th>\n",
       "    </tr>\n",
       "  </thead>\n",
       "  <tbody>\n",
       "    <tr>\n",
       "      <th>0</th>\n",
       "      <td>0</td>\n",
       "      <td>2020-09-29</td>\n",
       "      <td>My lower back pain came out of no where tonight jeeeeeeeeez https://t.co/OHpzYJjY7p</td>\n",
       "      <td>2020-09</td>\n",
       "      <td>My lower back pain came out of no where tonight jeeeeeeeeez  _IMAGE</td>\n",
       "    </tr>\n",
       "    <tr>\n",
       "      <th>1</th>\n",
       "      <td>1</td>\n",
       "      <td>2020-09-29</td>\n",
       "      <td>@FruitKace For me it is my hips. Lower back pain = stretch, stretch, stretch.</td>\n",
       "      <td>2020-09</td>\n",
       "      <td>@FruitKace For me it is my hips. Lower back pain = stretch, stretch, stretch.</td>\n",
       "    </tr>\n",
       "    <tr>\n",
       "      <th>2</th>\n",
       "      <td>2</td>\n",
       "      <td>2020-09-29</td>\n",
       "      <td>\"We don't need bodyguard.\\nWe don't need coocker.\\nWe don't need house cleaner.\\n\\nWe need a fucking massager. Like, I'd literally do anything for some, people have no idea how painful it is to lay down and feel that back pain when all you want to do is to sleep. \"</td>\n",
       "      <td>2020-09</td>\n",
       "      <td>\"We don't need bodyguard.\\nWe don't need coocker.\\nWe don't need house cleaner.\\n\\nWe need a fucking massager. Like, I'd literally do anything for some, people have no idea how painful it is to lay down and feel that back pain when all you want to do is to sleep. \"</td>\n",
       "    </tr>\n",
       "    <tr>\n",
       "      <th>3</th>\n",
       "      <td>3</td>\n",
       "      <td>2020-09-29</td>\n",
       "      <td>@AlexMLeo Rolfing saved me from back pain.</td>\n",
       "      <td>2020-09</td>\n",
       "      <td>@AlexMLeo Rolfing saved me from back pain.</td>\n",
       "    </tr>\n",
       "    <tr>\n",
       "      <th>4</th>\n",
       "      <td>4</td>\n",
       "      <td>2020-09-29</td>\n",
       "      <td>Back pain and insomnia 🥴 https://t.co/3n0xEIkT21</td>\n",
       "      <td>2020-09</td>\n",
       "      <td>Back pain and insomnia 🥴  _IMAGE</td>\n",
       "    </tr>\n",
       "    <tr>\n",
       "      <th>...</th>\n",
       "      <td>...</td>\n",
       "      <td>...</td>\n",
       "      <td>...</td>\n",
       "      <td>...</td>\n",
       "      <td>...</td>\n",
       "    </tr>\n",
       "    <tr>\n",
       "      <th>530305</th>\n",
       "      <td>530305</td>\n",
       "      <td>2019-03-01</td>\n",
       "      <td>💵🎧Magno Garcia x General Back Pain “Ballin On A Budget” Prod by ⁦@charliesdizz⁩ 🎧💵  soundcloud.com/magnogarcia/ma…</td>\n",
       "      <td>2019-03</td>\n",
       "      <td>💵🎧Magno Garcia x General Back Pain “Ballin On A Budget” Prod by ⁦@charliesdizz⁩ 🎧💵  soundcloud.com/magnogarcia/ma…</td>\n",
       "    </tr>\n",
       "    <tr>\n",
       "      <th>530306</th>\n",
       "      <td>530306</td>\n",
       "      <td>2019-03-01</td>\n",
       "      <td>@COMPLEXcsgo You still have back pain?</td>\n",
       "      <td>2019-03</td>\n",
       "      <td>@COMPLEXcsgo You still have back pain?</td>\n",
       "    </tr>\n",
       "    <tr>\n",
       "      <th>530307</th>\n",
       "      <td>530307</td>\n",
       "      <td>2019-03-01</td>\n",
       "      <td>This is everything I ever wanted and more. My heart is healed. My acne is gone. My back pain has faded. I am at peace. twitter.com/midnigtartist/…</td>\n",
       "      <td>2019-03</td>\n",
       "      <td>This is everything I ever wanted and more. My heart is healed. My acne is gone. My back pain has faded. I am at peace. twitter.com/midnigtartist/…</td>\n",
       "    </tr>\n",
       "    <tr>\n",
       "      <th>530308</th>\n",
       "      <td>530308</td>\n",
       "      <td>2019-03-01</td>\n",
       "      <td>A short video to kick off this month's campaign on back pain bit.ly/2SyjZoI co-kinetic.com/twittervideo/2…</td>\n",
       "      <td>2019-03</td>\n",
       "      <td>A short video to kick off this month's campaign on back pain bit.ly/2SyjZoI co-kinetic.com/twittervideo/2…</td>\n",
       "    </tr>\n",
       "    <tr>\n",
       "      <th>530309</th>\n",
       "      <td>530309</td>\n",
       "      <td>2019-03-01</td>\n",
       "      <td>Think stretching your hamstrings will help your back pain? Here's why it's probably making it worse...\\n1l.ink/Z6W76MQ</td>\n",
       "      <td>2019-03</td>\n",
       "      <td>Think stretching your hamstrings will help your back pain? Here's why it's probably making it worse...\\n1l.ink/Z6W76MQ</td>\n",
       "    </tr>\n",
       "  </tbody>\n",
       "</table>\n",
       "<p>530310 rows × 5 columns</p>\n",
       "</div>"
      ],
      "text/plain": [
       "        tweet_id  ...                                                                                                                                                                                                                                                                  tidy_text\n",
       "0       0         ...  My lower back pain came out of no where tonight jeeeeeeeeez  _IMAGE                                                                                                                                                                                                      \n",
       "1       1         ...  @FruitKace For me it is my hips. Lower back pain = stretch, stretch, stretch.                                                                                                                                                                                            \n",
       "2       2         ...  \"We don't need bodyguard.\\nWe don't need coocker.\\nWe don't need house cleaner.\\n\\nWe need a fucking massager. Like, I'd literally do anything for some, people have no idea how painful it is to lay down and feel that back pain when all you want to do is to sleep. \"\n",
       "3       3         ...  @AlexMLeo Rolfing saved me from back pain.                                                                                                                                                                                                                               \n",
       "4       4         ...  Back pain and insomnia 🥴  _IMAGE                                                                                                                                                                                                                                         \n",
       "...    ..         ...                                ...                                                                                                                                                                                                                                        \n",
       "530305  530305    ...  💵🎧Magno Garcia x General Back Pain “Ballin On A Budget” Prod by ⁦@charliesdizz⁩ 🎧💵  soundcloud.com/magnogarcia/ma…                                                                                                                                                       \n",
       "530306  530306    ...  @COMPLEXcsgo You still have back pain?                                                                                                                                                                                                                                   \n",
       "530307  530307    ...  This is everything I ever wanted and more. My heart is healed. My acne is gone. My back pain has faded. I am at peace. twitter.com/midnigtartist/…                                                                                                                       \n",
       "530308  530308    ...  A short video to kick off this month's campaign on back pain bit.ly/2SyjZoI co-kinetic.com/twittervideo/2…                                                                                                                                                               \n",
       "530309  530309    ...  Think stretching your hamstrings will help your back pain? Here's why it's probably making it worse...\\n1l.ink/Z6W76MQ                                                                                                                                                   \n",
       "\n",
       "[530310 rows x 5 columns]"
      ]
     },
     "execution_count": 20,
     "metadata": {
      "tags": []
     },
     "output_type": "execute_result"
    }
   ],
   "source": [
    "# replacing image links to a _IMAGE token\n",
    "\n",
    "df[\"tidy_text\"] = df[\"text\"].str.replace('https://t.co/(?:[a-zA-Z]|[0-9]|[$-_@.&+]|[!*\\(\\), ]|(?:%[0-9a-fA-F][0-9a-fA-F]))\\w+', ' _IMAGE ', regex=True)\n",
    "df"
   ]
  },
  {
   "cell_type": "code",
   "execution_count": null,
   "metadata": {
    "colab": {
     "base_uri": "https://localhost:8080/"
    },
    "id": "7GX_-TNFSNFX",
    "outputId": "34720315-6d04-43c9-e5ed-feec4c0bcd3f"
   },
   "outputs": [
    {
     "name": "stdout",
     "output_type": "stream",
     "text": [
      "Requirement already satisfied: demoji in /usr/local/lib/python3.6/dist-packages (0.3.0)\n",
      "Requirement already satisfied: requests<3.0.0 in /usr/local/lib/python3.6/dist-packages (from demoji) (2.23.0)\n",
      "Requirement already satisfied: colorama in /usr/local/lib/python3.6/dist-packages (from demoji) (0.4.4)\n",
      "Requirement already satisfied: urllib3!=1.25.0,!=1.25.1,<1.26,>=1.21.1 in /usr/local/lib/python3.6/dist-packages (from requests<3.0.0->demoji) (1.24.3)\n",
      "Requirement already satisfied: certifi>=2017.4.17 in /usr/local/lib/python3.6/dist-packages (from requests<3.0.0->demoji) (2020.6.20)\n",
      "Requirement already satisfied: idna<3,>=2.5 in /usr/local/lib/python3.6/dist-packages (from requests<3.0.0->demoji) (2.10)\n",
      "Requirement already satisfied: chardet<4,>=3.0.2 in /usr/local/lib/python3.6/dist-packages (from requests<3.0.0->demoji) (3.0.4)\n",
      "Downloading emoji data ...\n",
      "... OK (Got response in 0.38 seconds)\n",
      "Writing emoji data to /root/.demoji/codes.json ...\n",
      "... OK\n"
     ]
    }
   ],
   "source": [
    "!pip install demoji\n",
    "\n",
    "import demoji\n",
    "demoji.download_codes()"
   ]
  },
  {
   "cell_type": "code",
   "execution_count": null,
   "metadata": {
    "colab": {
     "base_uri": "https://localhost:8080/"
    },
    "id": "ozS91fVUsV4l",
    "outputId": "bd5adcdc-14e1-464a-ef14-241bd44e9aa2"
   },
   "outputs": [
    {
     "data": {
      "text/plain": [
       "['✨',\n",
       " '✨',\n",
       " '📈',\n",
       " '📈',\n",
       " '📈',\n",
       " '📈',\n",
       " '📈',\n",
       " '📈',\n",
       " '📈',\n",
       " '📈',\n",
       " '📈',\n",
       " '📈',\n",
       " '📈',\n",
       " '📈',\n",
       " '📈',\n",
       " '📈',\n",
       " '📈',\n",
       " '📈',\n",
       " '📈',\n",
       " '📈',\n",
       " '📈',\n",
       " '📈',\n",
       " '📈',\n",
       " '📈',\n",
       " '📈',\n",
       " '📈',\n",
       " '📈',\n",
       " '📈',\n",
       " '📈',\n",
       " '📈',\n",
       " '📈']"
      ]
     },
     "execution_count": 22,
     "metadata": {
      "tags": []
     },
     "output_type": "execute_result"
    }
   ],
   "source": [
    "## Check if there is an emoji contained in a tweet and extract them:\n",
    "\n",
    "def extract_emojis(text):\n",
    "\n",
    "  return [emoji for emoji in demoji._EMOJI_PAT.findall(text)]\n",
    "\n",
    "\n",
    "\n",
    "def contains_emoji(text):\n",
    "  \"\"\"return True if text contains an emoji, False otherwise.\"\"\"\n",
    "\n",
    "  return bool(demoji.findall(text))\n",
    "\n",
    "\n",
    "# Example:\n",
    "sample = ' my ✨ back pain ✨ : 📈📈📈📈📈📈📈📈📈📈📈📈📈📈📈📈📈📈📈📈📈📈📈📈📈📈📈📈📈'\n",
    "\n",
    "extract_emojis(sample)\n",
    "#contains_emoji(sample)"
   ]
  },
  {
   "cell_type": "code",
   "execution_count": null,
   "metadata": {
    "colab": {
     "base_uri": "https://localhost:8080/"
    },
    "id": "8LXB5_Ahwxjx",
    "outputId": "bdf333ea-0080-43e4-eed2-4ec399890d3f"
   },
   "outputs": [
    {
     "name": "stdout",
     "output_type": "stream",
     "text": [
      "Requirement already satisfied: emoji in /usr/local/lib/python3.6/dist-packages (0.6.0)\n"
     ]
    }
   ],
   "source": [
    "!pip install emoji\n",
    "import emoji"
   ]
  },
  {
   "cell_type": "code",
   "execution_count": null,
   "metadata": {
    "id": "pcuVC8T400pv"
   },
   "outputs": [],
   "source": [
    "def interpret_emoji(text):\n",
    "  string = \"\"\n",
    "  d = dict()\n",
    "  for i in range(len(text)):\n",
    "    if text[i] in emoji.UNICODE_EMOJI:\n",
    "      if text[i] in d.keys():\n",
    "        if d[text[i]] < 2:\n",
    "          string = string + text[i]\n",
    "          d[text[i]] += 1\n",
    "      else:\n",
    "        string = string + text[i]\n",
    "        d[text[i]] = 1\n",
    "    else:\n",
    "      string = string + text[i]\n",
    "    \n",
    "\n",
    "  return demoji.replace_with_desc(string)\n"
   ]
  },
  {
   "cell_type": "code",
   "execution_count": null,
   "metadata": {
    "colab": {
     "base_uri": "https://localhost:8080/",
     "height": 35
    },
    "id": "evm2uLDKMrsB",
    "outputId": "81c263d4-9f0f-4273-e67e-f57c58d34ab7"
   },
   "outputs": [
    {
     "data": {
      "application/vnd.google.colaboratory.intrinsic+json": {
       "type": "string"
      },
      "text/plain": [
       "' my :sparkles: back pain :sparkles: : :chart increasing::chart increasing:'"
      ]
     },
     "execution_count": 25,
     "metadata": {
      "tags": []
     },
     "output_type": "execute_result"
    }
   ],
   "source": [
    "sample = ' my ✨ back pain ✨ : 📈📈📈📈📈📈📈📈📈📈📈📈📈📈📈📈📈📈📈📈📈📈📈📈📈📈📈📈📈'\n",
    "\n",
    "interpret_emoji(sample)"
   ]
  },
  {
   "cell_type": "code",
   "execution_count": null,
   "metadata": {
    "colab": {
     "base_uri": "https://localhost:8080/",
     "height": 666
    },
    "id": "KSPvJJ9WFYEt",
    "outputId": "7fcee60a-1985-49b7-8eeb-28255b9b74aa"
   },
   "outputs": [
    {
     "data": {
      "text/html": [
       "<div>\n",
       "<style scoped>\n",
       "    .dataframe tbody tr th:only-of-type {\n",
       "        vertical-align: middle;\n",
       "    }\n",
       "\n",
       "    .dataframe tbody tr th {\n",
       "        vertical-align: top;\n",
       "    }\n",
       "\n",
       "    .dataframe thead th {\n",
       "        text-align: right;\n",
       "    }\n",
       "</style>\n",
       "<table border=\"1\" class=\"dataframe\">\n",
       "  <thead>\n",
       "    <tr style=\"text-align: right;\">\n",
       "      <th></th>\n",
       "      <th>tweet_id</th>\n",
       "      <th>date</th>\n",
       "      <th>text</th>\n",
       "      <th>month</th>\n",
       "      <th>tidy_text</th>\n",
       "    </tr>\n",
       "  </thead>\n",
       "  <tbody>\n",
       "    <tr>\n",
       "      <th>0</th>\n",
       "      <td>0</td>\n",
       "      <td>2020-09-29</td>\n",
       "      <td>My lower back pain came out of no where tonight jeeeeeeeeez https://t.co/OHpzYJjY7p</td>\n",
       "      <td>2020-09</td>\n",
       "      <td>My lower back pain came out of no where tonight jeeeeeeeeez  _IMAGE</td>\n",
       "    </tr>\n",
       "    <tr>\n",
       "      <th>1</th>\n",
       "      <td>1</td>\n",
       "      <td>2020-09-29</td>\n",
       "      <td>@FruitKace For me it is my hips. Lower back pain = stretch, stretch, stretch.</td>\n",
       "      <td>2020-09</td>\n",
       "      <td>@FruitKace For me it is my hips. Lower back pain = stretch, stretch, stretch.</td>\n",
       "    </tr>\n",
       "    <tr>\n",
       "      <th>2</th>\n",
       "      <td>2</td>\n",
       "      <td>2020-09-29</td>\n",
       "      <td>\"We don't need bodyguard.\\nWe don't need coocker.\\nWe don't need house cleaner.\\n\\nWe need a fucking massager. Like, I'd literally do anything for some, people have no idea how painful it is to lay down and feel that back pain when all you want to do is to sleep. \"</td>\n",
       "      <td>2020-09</td>\n",
       "      <td>\"We don't need bodyguard.\\nWe don't need coocker.\\nWe don't need house cleaner.\\n\\nWe need a fucking massager. Like, I'd literally do anything for some, people have no idea how painful it is to lay down and feel that back pain when all you want to do is to sleep. \"</td>\n",
       "    </tr>\n",
       "    <tr>\n",
       "      <th>3</th>\n",
       "      <td>3</td>\n",
       "      <td>2020-09-29</td>\n",
       "      <td>@AlexMLeo Rolfing saved me from back pain.</td>\n",
       "      <td>2020-09</td>\n",
       "      <td>@AlexMLeo Rolfing saved me from back pain.</td>\n",
       "    </tr>\n",
       "    <tr>\n",
       "      <th>4</th>\n",
       "      <td>4</td>\n",
       "      <td>2020-09-29</td>\n",
       "      <td>Back pain and insomnia 🥴 https://t.co/3n0xEIkT21</td>\n",
       "      <td>2020-09</td>\n",
       "      <td>Back pain and insomnia :woozy face:  _IMAGE</td>\n",
       "    </tr>\n",
       "    <tr>\n",
       "      <th>...</th>\n",
       "      <td>...</td>\n",
       "      <td>...</td>\n",
       "      <td>...</td>\n",
       "      <td>...</td>\n",
       "      <td>...</td>\n",
       "    </tr>\n",
       "    <tr>\n",
       "      <th>530305</th>\n",
       "      <td>530305</td>\n",
       "      <td>2019-03-01</td>\n",
       "      <td>💵🎧Magno Garcia x General Back Pain “Ballin On A Budget” Prod by ⁦@charliesdizz⁩ 🎧💵  soundcloud.com/magnogarcia/ma…</td>\n",
       "      <td>2019-03</td>\n",
       "      <td>:dollar banknote::headphone:Magno Garcia x General Back Pain “Ballin On A Budget” Prod by ⁦@charliesdizz⁩ :headphone::dollar banknote:  soundcloud.com/magnogarcia/ma…</td>\n",
       "    </tr>\n",
       "    <tr>\n",
       "      <th>530306</th>\n",
       "      <td>530306</td>\n",
       "      <td>2019-03-01</td>\n",
       "      <td>@COMPLEXcsgo You still have back pain?</td>\n",
       "      <td>2019-03</td>\n",
       "      <td>@COMPLEXcsgo You still have back pain?</td>\n",
       "    </tr>\n",
       "    <tr>\n",
       "      <th>530307</th>\n",
       "      <td>530307</td>\n",
       "      <td>2019-03-01</td>\n",
       "      <td>This is everything I ever wanted and more. My heart is healed. My acne is gone. My back pain has faded. I am at peace. twitter.com/midnigtartist/…</td>\n",
       "      <td>2019-03</td>\n",
       "      <td>This is everything I ever wanted and more. My heart is healed. My acne is gone. My back pain has faded. I am at peace. twitter.com/midnigtartist/…</td>\n",
       "    </tr>\n",
       "    <tr>\n",
       "      <th>530308</th>\n",
       "      <td>530308</td>\n",
       "      <td>2019-03-01</td>\n",
       "      <td>A short video to kick off this month's campaign on back pain bit.ly/2SyjZoI co-kinetic.com/twittervideo/2…</td>\n",
       "      <td>2019-03</td>\n",
       "      <td>A short video to kick off this month's campaign on back pain bit.ly/2SyjZoI co-kinetic.com/twittervideo/2…</td>\n",
       "    </tr>\n",
       "    <tr>\n",
       "      <th>530309</th>\n",
       "      <td>530309</td>\n",
       "      <td>2019-03-01</td>\n",
       "      <td>Think stretching your hamstrings will help your back pain? Here's why it's probably making it worse...\\n1l.ink/Z6W76MQ</td>\n",
       "      <td>2019-03</td>\n",
       "      <td>Think stretching your hamstrings will help your back pain? Here's why it's probably making it worse...\\n1l.ink/Z6W76MQ</td>\n",
       "    </tr>\n",
       "  </tbody>\n",
       "</table>\n",
       "<p>530310 rows × 5 columns</p>\n",
       "</div>"
      ],
      "text/plain": [
       "        tweet_id  ...                                                                                                                                                                                                                                                                  tidy_text\n",
       "0       0         ...  My lower back pain came out of no where tonight jeeeeeeeeez  _IMAGE                                                                                                                                                                                                      \n",
       "1       1         ...  @FruitKace For me it is my hips. Lower back pain = stretch, stretch, stretch.                                                                                                                                                                                            \n",
       "2       2         ...  \"We don't need bodyguard.\\nWe don't need coocker.\\nWe don't need house cleaner.\\n\\nWe need a fucking massager. Like, I'd literally do anything for some, people have no idea how painful it is to lay down and feel that back pain when all you want to do is to sleep. \"\n",
       "3       3         ...  @AlexMLeo Rolfing saved me from back pain.                                                                                                                                                                                                                               \n",
       "4       4         ...  Back pain and insomnia :woozy face:  _IMAGE                                                                                                                                                                                                                              \n",
       "...    ..         ...                                           ...                                                                                                                                                                                                                             \n",
       "530305  530305    ...  :dollar banknote::headphone:Magno Garcia x General Back Pain “Ballin On A Budget” Prod by ⁦@charliesdizz⁩ :headphone::dollar banknote:  soundcloud.com/magnogarcia/ma…                                                                                                   \n",
       "530306  530306    ...  @COMPLEXcsgo You still have back pain?                                                                                                                                                                                                                                   \n",
       "530307  530307    ...  This is everything I ever wanted and more. My heart is healed. My acne is gone. My back pain has faded. I am at peace. twitter.com/midnigtartist/…                                                                                                                       \n",
       "530308  530308    ...  A short video to kick off this month's campaign on back pain bit.ly/2SyjZoI co-kinetic.com/twittervideo/2…                                                                                                                                                               \n",
       "530309  530309    ...  Think stretching your hamstrings will help your back pain? Here's why it's probably making it worse...\\n1l.ink/Z6W76MQ                                                                                                                                                   \n",
       "\n",
       "[530310 rows x 5 columns]"
      ]
     },
     "execution_count": 26,
     "metadata": {
      "tags": []
     },
     "output_type": "execute_result"
    }
   ],
   "source": [
    "df['tidy_text'] = df['tidy_text'].map(lambda x: interpret_emoji(x))\n",
    "df"
   ]
  },
  {
   "cell_type": "code",
   "execution_count": null,
   "metadata": {
    "colab": {
     "base_uri": "https://localhost:8080/",
     "height": 35
    },
    "id": "zqRhShoGJmQs",
    "outputId": "18026315-a59e-40ed-cdac-033ca152b513"
   },
   "outputs": [
    {
     "data": {
      "application/vnd.google.colaboratory.intrinsic+json": {
       "type": "string"
      },
      "text/plain": [
       "'My lower back pain came out of no where tonight jeez'"
      ]
     },
     "execution_count": 27,
     "metadata": {
      "tags": []
     },
     "output_type": "execute_result"
    }
   ],
   "source": [
    "#Reduce the number of redundant characters to 2\n",
    "\n",
    "import re\n",
    "\n",
    "def remove_redundant_char(text):\n",
    "\n",
    "  text_new = \"\"\n",
    "  words = text.split()\n",
    "\n",
    "  for word in words:\n",
    "    text_new += re.sub(r'([a-z])\\1\\w+(\\1{2,})', r'\\2', word) + ' '\n",
    "  return text_new.strip()\n",
    "\n",
    "\n",
    "# Example \n",
    "tweet = 'My lower back pain came out of no where tonight jeeeeeeeeez'\n",
    "\n",
    "remove_redundant_char(tweet)"
   ]
  },
  {
   "cell_type": "code",
   "execution_count": null,
   "metadata": {
    "id": "z2DfktcOJmWD"
   },
   "outputs": [],
   "source": [
    "df['tidy_text'] = df['tidy_text'].map(lambda x: remove_redundant_char(x))"
   ]
  },
  {
   "cell_type": "code",
   "execution_count": null,
   "metadata": {
    "colab": {
     "base_uri": "https://localhost:8080/",
     "height": 666
    },
    "id": "Ba3se_G2zktK",
    "outputId": "5993913c-77cb-48ad-ac77-840cac80bc90"
   },
   "outputs": [
    {
     "data": {
      "text/html": [
       "<div>\n",
       "<style scoped>\n",
       "    .dataframe tbody tr th:only-of-type {\n",
       "        vertical-align: middle;\n",
       "    }\n",
       "\n",
       "    .dataframe tbody tr th {\n",
       "        vertical-align: top;\n",
       "    }\n",
       "\n",
       "    .dataframe thead th {\n",
       "        text-align: right;\n",
       "    }\n",
       "</style>\n",
       "<table border=\"1\" class=\"dataframe\">\n",
       "  <thead>\n",
       "    <tr style=\"text-align: right;\">\n",
       "      <th></th>\n",
       "      <th>tweet_id</th>\n",
       "      <th>date</th>\n",
       "      <th>text</th>\n",
       "      <th>month</th>\n",
       "      <th>tidy_text</th>\n",
       "    </tr>\n",
       "  </thead>\n",
       "  <tbody>\n",
       "    <tr>\n",
       "      <th>0</th>\n",
       "      <td>0</td>\n",
       "      <td>2020-09-29</td>\n",
       "      <td>My lower back pain came out of no where tonight jeeeeeeeeez https://t.co/OHpzYJjY7p</td>\n",
       "      <td>2020-09</td>\n",
       "      <td>My lower back pain came out of no where tonight jeez _IMAGE</td>\n",
       "    </tr>\n",
       "    <tr>\n",
       "      <th>1</th>\n",
       "      <td>1</td>\n",
       "      <td>2020-09-29</td>\n",
       "      <td>@FruitKace For me it is my hips. Lower back pain = stretch, stretch, stretch.</td>\n",
       "      <td>2020-09</td>\n",
       "      <td>@FruitKace For me it is my hips. Lower back pain = stretch, stretch, stretch.</td>\n",
       "    </tr>\n",
       "    <tr>\n",
       "      <th>2</th>\n",
       "      <td>2</td>\n",
       "      <td>2020-09-29</td>\n",
       "      <td>\"We don't need bodyguard.\\nWe don't need coocker.\\nWe don't need house cleaner.\\n\\nWe need a fucking massager. Like, I'd literally do anything for some, people have no idea how painful it is to lay down and feel that back pain when all you want to do is to sleep. \"</td>\n",
       "      <td>2020-09</td>\n",
       "      <td>\"We don't need bodyguard. We don't need coocker. We don't need house cleaner. We need a fucking massager. Like, I'd literally do anything for some, people have no idea how painful it is to lay down and feel that back pain when all you want to do is to sleep. \"</td>\n",
       "    </tr>\n",
       "    <tr>\n",
       "      <th>3</th>\n",
       "      <td>3</td>\n",
       "      <td>2020-09-29</td>\n",
       "      <td>@AlexMLeo Rolfing saved me from back pain.</td>\n",
       "      <td>2020-09</td>\n",
       "      <td>@AlexMLeo Rolfing saved me from back pain.</td>\n",
       "    </tr>\n",
       "    <tr>\n",
       "      <th>4</th>\n",
       "      <td>4</td>\n",
       "      <td>2020-09-29</td>\n",
       "      <td>Back pain and insomnia 🥴 https://t.co/3n0xEIkT21</td>\n",
       "      <td>2020-09</td>\n",
       "      <td>Back pain and insomnia :woozy face: _IMAGE</td>\n",
       "    </tr>\n",
       "    <tr>\n",
       "      <th>...</th>\n",
       "      <td>...</td>\n",
       "      <td>...</td>\n",
       "      <td>...</td>\n",
       "      <td>...</td>\n",
       "      <td>...</td>\n",
       "    </tr>\n",
       "    <tr>\n",
       "      <th>530305</th>\n",
       "      <td>530305</td>\n",
       "      <td>2019-03-01</td>\n",
       "      <td>💵🎧Magno Garcia x General Back Pain “Ballin On A Budget” Prod by ⁦@charliesdizz⁩ 🎧💵  soundcloud.com/magnogarcia/ma…</td>\n",
       "      <td>2019-03</td>\n",
       "      <td>:dollar banknote::headphone:Magno Garcia x General Back Pain “Ballin On A Budget” Prod by ⁦@charliesdizz⁩ :headphone::dollar banknote: soundcloud.com/magnogarcia/ma…</td>\n",
       "    </tr>\n",
       "    <tr>\n",
       "      <th>530306</th>\n",
       "      <td>530306</td>\n",
       "      <td>2019-03-01</td>\n",
       "      <td>@COMPLEXcsgo You still have back pain?</td>\n",
       "      <td>2019-03</td>\n",
       "      <td>@COMPLEXcsgo You still have back pain?</td>\n",
       "    </tr>\n",
       "    <tr>\n",
       "      <th>530307</th>\n",
       "      <td>530307</td>\n",
       "      <td>2019-03-01</td>\n",
       "      <td>This is everything I ever wanted and more. My heart is healed. My acne is gone. My back pain has faded. I am at peace. twitter.com/midnigtartist/…</td>\n",
       "      <td>2019-03</td>\n",
       "      <td>This is everything I ever wanted and more. My heart is healed. My acne is gone. My back pain has faded. I am at peace. twitter.com/midnigtartist/…</td>\n",
       "    </tr>\n",
       "    <tr>\n",
       "      <th>530308</th>\n",
       "      <td>530308</td>\n",
       "      <td>2019-03-01</td>\n",
       "      <td>A short video to kick off this month's campaign on back pain bit.ly/2SyjZoI co-kinetic.com/twittervideo/2…</td>\n",
       "      <td>2019-03</td>\n",
       "      <td>A short video to kick off this month's campaign on back pain bit.ly/2SyjZoI co-kinetic.com/twittervideo/2…</td>\n",
       "    </tr>\n",
       "    <tr>\n",
       "      <th>530309</th>\n",
       "      <td>530309</td>\n",
       "      <td>2019-03-01</td>\n",
       "      <td>Think stretching your hamstrings will help your back pain? Here's why it's probably making it worse...\\n1l.ink/Z6W76MQ</td>\n",
       "      <td>2019-03</td>\n",
       "      <td>Think stretching your hamstrings will help your back pain? Here's why it's probably making it worse... 1l.ink/Z6W76MQ</td>\n",
       "    </tr>\n",
       "  </tbody>\n",
       "</table>\n",
       "<p>530310 rows × 5 columns</p>\n",
       "</div>"
      ],
      "text/plain": [
       "        tweet_id  ...                                                                                                                                                                                                                                                             tidy_text\n",
       "0       0         ...  My lower back pain came out of no where tonight jeez _IMAGE                                                                                                                                                                                                         \n",
       "1       1         ...  @FruitKace For me it is my hips. Lower back pain = stretch, stretch, stretch.                                                                                                                                                                                       \n",
       "2       2         ...  \"We don't need bodyguard. We don't need coocker. We don't need house cleaner. We need a fucking massager. Like, I'd literally do anything for some, people have no idea how painful it is to lay down and feel that back pain when all you want to do is to sleep. \"\n",
       "3       3         ...  @AlexMLeo Rolfing saved me from back pain.                                                                                                                                                                                                                          \n",
       "4       4         ...  Back pain and insomnia :woozy face: _IMAGE                                                                                                                                                                                                                          \n",
       "...    ..         ...                                         ...                                                                                                                                                                                                                          \n",
       "530305  530305    ...  :dollar banknote::headphone:Magno Garcia x General Back Pain “Ballin On A Budget” Prod by ⁦@charliesdizz⁩ :headphone::dollar banknote: soundcloud.com/magnogarcia/ma…                                                                                               \n",
       "530306  530306    ...  @COMPLEXcsgo You still have back pain?                                                                                                                                                                                                                              \n",
       "530307  530307    ...  This is everything I ever wanted and more. My heart is healed. My acne is gone. My back pain has faded. I am at peace. twitter.com/midnigtartist/…                                                                                                                  \n",
       "530308  530308    ...  A short video to kick off this month's campaign on back pain bit.ly/2SyjZoI co-kinetic.com/twittervideo/2…                                                                                                                                                          \n",
       "530309  530309    ...  Think stretching your hamstrings will help your back pain? Here's why it's probably making it worse... 1l.ink/Z6W76MQ                                                                                                                                               \n",
       "\n",
       "[530310 rows x 5 columns]"
      ]
     },
     "execution_count": 29,
     "metadata": {
      "tags": []
     },
     "output_type": "execute_result"
    }
   ],
   "source": [
    "df"
   ]
  },
  {
   "cell_type": "markdown",
   "metadata": {
    "id": "-Sdt3SfYN32b"
   },
   "source": []
  },
  {
   "cell_type": "code",
   "execution_count": null,
   "metadata": {
    "id": "Q4Hnvf2NMQdj"
   },
   "outputs": [],
   "source": [
    "# This function does the same thing as remove_redundant_char function. But some words in the tweets work well with this function\n",
    "# and some others work well with remove_redundant_char function. (It's in the process to combine these two function and have a perfect one)\n",
    "\n",
    "def repoo(x):\n",
    "    repeat_regexp = re.compile(r'(\\S+)(\\1{2,})')\n",
    "    repl = r'\\2'\n",
    "    return repeat_regexp.sub(repl=r'\\2', string=x)\n"
   ]
  },
  {
   "cell_type": "code",
   "execution_count": null,
   "metadata": {
    "id": "H-aXGSFXw1L4"
   },
   "outputs": [],
   "source": [
    "for i in range(10):\n",
    "  df['tidy_text'] = df['tidy_text'].map(lambda x: repoo(str(x)))"
   ]
  },
  {
   "cell_type": "code",
   "execution_count": null,
   "metadata": {
    "id": "0UZfeTM8kAlu"
   },
   "outputs": [],
   "source": [
    "# Get rid of some other image link and replace them to a _IMAGE token\n",
    "\n",
    "df['tidy_text'] = df['tidy_text'].str.replace('https://pbs.twimg.com/media/(?:[a-zA-Z]|[0-9]|[$-_@.&+]|[!*\\(\\), ]|(?:%[0-9a-fA-F][0-9a-fA-F]))w+', ' _IMAGE', regex=True)"
   ]
  },
  {
   "cell_type": "code",
   "execution_count": null,
   "metadata": {
    "id": "BMAAO2SioTxA"
   },
   "outputs": [],
   "source": [
    "# Replace instances of twitter.com/\"Username\" to _RETWEET\n",
    "\n",
    "df['tidy_text'] = df['tidy_text'].str.replace('twitter.com(?:[a-zA-Z]|[0-9]|[$-_@.&+]|[!*\\(\\), ]|(?:%[0-9a-fA-F][0-9a-fA-F]))+|twitter.com(?:[a-zA-Z]|[0-9]|[$-_@.&+]|[!*\\(\\), ]|(?:%[0-9a-fA-F][0-9a-fA-F])|\\u00E2\\u20AC)+\\¦', ' _RETWEET', regex=True)"
   ]
  },
  {
   "cell_type": "code",
   "execution_count": null,
   "metadata": {
    "id": "iArnTPcKoYd4"
   },
   "outputs": [],
   "source": [
    "# Replace all URLS to \"_URL\" token\n",
    "\n",
    "df['tidy_text'] = df['tidy_text'].str.replace('http[s]?://(?:[a-zA-Z]|[0-9]|[$-_@.&+]|[!*\\(\\), ]|(?:%[0-9a-fA-F][0-9a-fA-F]))w+', ' _URL', regex=True)\n",
    "df['tidy_text'] = df['tidy_text'].str.replace('URL#(?:[a-zA-Z]|[0-9]|[$-_@.&+]|[!*\\(\\), ]|(?:%[0-9a-fA-F][0-9a-fA-F]))w+', ' _URL', regex=True)\n",
    "\n",
    "# All other URLS contain \".com\" \n",
    "df['tidy_text'] = df['tidy_text'].str.replace('[a-zA-Z]\\w+\\.com\\/[a-zA-Z0-9]\\w+([\\-\\.\\/]\\w+)+', ' _URL', regex=True)\n",
    "\n",
    "# URLS like bit.ly/3hQ1ee9\n",
    "df['tidy_text'] = df['tidy_text'].str.replace('bit.ly(\\/\\d+\\w+)+', ' _URL', regex=True)\n",
    "\n",
    "# facebook.com & youtu.be\n",
    "df['tidy_text'] = df['tidy_text'].str.replace('youtu.be(\\/[A-Z]\\w+)+|\\bfacebook.com\\b', ' _URL', regex=True)"
   ]
  },
  {
   "cell_type": "code",
   "execution_count": null,
   "metadata": {
    "id": "XMUz2R9BZ2yX"
   },
   "outputs": [],
   "source": [
    "# Replace instagram.com to _URL (sample: instagram.com/p/B_Uvw2vl_Lh/)\n",
    "\n",
    "df['tidy_text'] = df['tidy_text'].str.replace('instagram.com\\/[a-zA-Z0-9]([\\-\\.\\/\\_]\\w+)+', ' _URL', regex=True)"
   ]
  },
  {
   "cell_type": "code",
   "execution_count": null,
   "metadata": {
    "colab": {
     "base_uri": "https://localhost:8080/",
     "height": 666
    },
    "id": "rDr9c8ZL5a72",
    "outputId": "c4c745d4-f3a1-42d2-cee7-c331c7456e2a"
   },
   "outputs": [
    {
     "data": {
      "text/html": [
       "<div>\n",
       "<style scoped>\n",
       "    .dataframe tbody tr th:only-of-type {\n",
       "        vertical-align: middle;\n",
       "    }\n",
       "\n",
       "    .dataframe tbody tr th {\n",
       "        vertical-align: top;\n",
       "    }\n",
       "\n",
       "    .dataframe thead th {\n",
       "        text-align: right;\n",
       "    }\n",
       "</style>\n",
       "<table border=\"1\" class=\"dataframe\">\n",
       "  <thead>\n",
       "    <tr style=\"text-align: right;\">\n",
       "      <th></th>\n",
       "      <th>tweet_id</th>\n",
       "      <th>date</th>\n",
       "      <th>text</th>\n",
       "      <th>month</th>\n",
       "      <th>tidy_text</th>\n",
       "    </tr>\n",
       "  </thead>\n",
       "  <tbody>\n",
       "    <tr>\n",
       "      <th>0</th>\n",
       "      <td>0</td>\n",
       "      <td>2020-09-29</td>\n",
       "      <td>My lower back pain came out of no where tonight jeeeeeeeeez https://t.co/OHpzYJjY7p</td>\n",
       "      <td>2020-09</td>\n",
       "      <td>My lower back pain came out of no where tonight jeez _IMAGE</td>\n",
       "    </tr>\n",
       "    <tr>\n",
       "      <th>1</th>\n",
       "      <td>1</td>\n",
       "      <td>2020-09-29</td>\n",
       "      <td>@FruitKace For me it is my hips. Lower back pain = stretch, stretch, stretch.</td>\n",
       "      <td>2020-09</td>\n",
       "      <td>@FruitKace For me it is my hips. Lower back pain = stretch, stretch, stretch.</td>\n",
       "    </tr>\n",
       "    <tr>\n",
       "      <th>2</th>\n",
       "      <td>2</td>\n",
       "      <td>2020-09-29</td>\n",
       "      <td>\"We don't need bodyguard.\\nWe don't need coocker.\\nWe don't need house cleaner.\\n\\nWe need a fucking massager. Like, I'd literally do anything for some, people have no idea how painful it is to lay down and feel that back pain when all you want to do is to sleep. \"</td>\n",
       "      <td>2020-09</td>\n",
       "      <td>\"We don't need bodyguard. We don't need coocker. We don't need house cleaner. We need a fucking massager. Like, I'd literally do anything for some, people have no idea how painful it is to lay down and feel that back pain when all you want to do is to sleep. \"</td>\n",
       "    </tr>\n",
       "    <tr>\n",
       "      <th>3</th>\n",
       "      <td>3</td>\n",
       "      <td>2020-09-29</td>\n",
       "      <td>@AlexMLeo Rolfing saved me from back pain.</td>\n",
       "      <td>2020-09</td>\n",
       "      <td>@AlexMLeo Rolfing saved me from back pain.</td>\n",
       "    </tr>\n",
       "    <tr>\n",
       "      <th>4</th>\n",
       "      <td>4</td>\n",
       "      <td>2020-09-29</td>\n",
       "      <td>Back pain and insomnia 🥴 https://t.co/3n0xEIkT21</td>\n",
       "      <td>2020-09</td>\n",
       "      <td>Back pain and insomnia :woozy face: _IMAGE</td>\n",
       "    </tr>\n",
       "    <tr>\n",
       "      <th>...</th>\n",
       "      <td>...</td>\n",
       "      <td>...</td>\n",
       "      <td>...</td>\n",
       "      <td>...</td>\n",
       "      <td>...</td>\n",
       "    </tr>\n",
       "    <tr>\n",
       "      <th>530305</th>\n",
       "      <td>530305</td>\n",
       "      <td>2019-03-01</td>\n",
       "      <td>💵🎧Magno Garcia x General Back Pain “Ballin On A Budget” Prod by ⁦@charliesdizz⁩ 🎧💵  soundcloud.com/magnogarcia/ma…</td>\n",
       "      <td>2019-03</td>\n",
       "      <td>:dollar banknote::headphone:Magno Garcia x General Back Pain “Ballin On A Budget” Prod by ⁦@charliesdizz⁩ :headphone::dollar banknote:  _URL…</td>\n",
       "    </tr>\n",
       "    <tr>\n",
       "      <th>530306</th>\n",
       "      <td>530306</td>\n",
       "      <td>2019-03-01</td>\n",
       "      <td>@COMPLEXcsgo You still have back pain?</td>\n",
       "      <td>2019-03</td>\n",
       "      <td>@COMPLEXcsgo You still have back pain?</td>\n",
       "    </tr>\n",
       "    <tr>\n",
       "      <th>530307</th>\n",
       "      <td>530307</td>\n",
       "      <td>2019-03-01</td>\n",
       "      <td>This is everything I ever wanted and more. My heart is healed. My acne is gone. My back pain has faded. I am at peace. twitter.com/midnigtartist/…</td>\n",
       "      <td>2019-03</td>\n",
       "      <td>This is everything I ever wanted and more. My heart is healed. My acne is gone. My back pain has faded. I am at peace.  _RETWEET…</td>\n",
       "    </tr>\n",
       "    <tr>\n",
       "      <th>530308</th>\n",
       "      <td>530308</td>\n",
       "      <td>2019-03-01</td>\n",
       "      <td>A short video to kick off this month's campaign on back pain bit.ly/2SyjZoI co-kinetic.com/twittervideo/2…</td>\n",
       "      <td>2019-03</td>\n",
       "      <td>A short video to kick off this month's campaign on back pain  _URL co- _URL…</td>\n",
       "    </tr>\n",
       "    <tr>\n",
       "      <th>530309</th>\n",
       "      <td>530309</td>\n",
       "      <td>2019-03-01</td>\n",
       "      <td>Think stretching your hamstrings will help your back pain? Here's why it's probably making it worse...\\n1l.ink/Z6W76MQ</td>\n",
       "      <td>2019-03</td>\n",
       "      <td>Think stretching your hamstrings will help your back pain? Here's why it's probably making it worse.. 1l.ink/Z6W76MQ</td>\n",
       "    </tr>\n",
       "  </tbody>\n",
       "</table>\n",
       "<p>530310 rows × 5 columns</p>\n",
       "</div>"
      ],
      "text/plain": [
       "        tweet_id  ...                                                                                                                                                                                                                                                             tidy_text\n",
       "0       0         ...  My lower back pain came out of no where tonight jeez _IMAGE                                                                                                                                                                                                         \n",
       "1       1         ...  @FruitKace For me it is my hips. Lower back pain = stretch, stretch, stretch.                                                                                                                                                                                       \n",
       "2       2         ...  \"We don't need bodyguard. We don't need coocker. We don't need house cleaner. We need a fucking massager. Like, I'd literally do anything for some, people have no idea how painful it is to lay down and feel that back pain when all you want to do is to sleep. \"\n",
       "3       3         ...  @AlexMLeo Rolfing saved me from back pain.                                                                                                                                                                                                                          \n",
       "4       4         ...  Back pain and insomnia :woozy face: _IMAGE                                                                                                                                                                                                                          \n",
       "...    ..         ...                                         ...                                                                                                                                                                                                                          \n",
       "530305  530305    ...  :dollar banknote::headphone:Magno Garcia x General Back Pain “Ballin On A Budget” Prod by ⁦@charliesdizz⁩ :headphone::dollar banknote:  _URL…                                                                                                                       \n",
       "530306  530306    ...  @COMPLEXcsgo You still have back pain?                                                                                                                                                                                                                              \n",
       "530307  530307    ...  This is everything I ever wanted and more. My heart is healed. My acne is gone. My back pain has faded. I am at peace.  _RETWEET…                                                                                                                                   \n",
       "530308  530308    ...  A short video to kick off this month's campaign on back pain  _URL co- _URL…                                                                                                                                                                                        \n",
       "530309  530309    ...  Think stretching your hamstrings will help your back pain? Here's why it's probably making it worse.. 1l.ink/Z6W76MQ                                                                                                                                                \n",
       "\n",
       "[530310 rows x 5 columns]"
      ]
     },
     "execution_count": 36,
     "metadata": {
      "tags": []
     },
     "output_type": "execute_result"
    }
   ],
   "source": [
    "df"
   ]
  },
  {
   "cell_type": "code",
   "execution_count": null,
   "metadata": {
    "colab": {
     "base_uri": "https://localhost:8080/"
    },
    "id": "f2SK82-tWKQ-",
    "outputId": "338cf635-e0d5-4540-87ce-441fdeca5b64"
   },
   "outputs": [
    {
     "name": "stdout",
     "output_type": "stream",
     "text": [
      "Requirement already satisfied: langdetect in /usr/local/lib/python3.6/dist-packages (1.0.8)\n",
      "Requirement already satisfied: six in /usr/local/lib/python3.6/dist-packages (from langdetect) (1.15.0)\n"
     ]
    }
   ],
   "source": [
    "!pip install langdetect\n",
    "from langdetect import detect\n",
    "\n",
    "def kfdetect(x):\n",
    "  try:\n",
    "    lang = detect(x)\n",
    "  except:\n",
    "    lang = 'NA'\n",
    "  return lang\n"
   ]
  },
  {
   "cell_type": "code",
   "execution_count": null,
   "metadata": {
    "colab": {
     "base_uri": "https://localhost:8080/",
     "height": 683
    },
    "id": "ODPxnGvmp-8p",
    "outputId": "ff1fbed2-0d20-453d-b06c-1758e12705a5"
   },
   "outputs": [
    {
     "data": {
      "text/html": [
       "<div>\n",
       "<style scoped>\n",
       "    .dataframe tbody tr th:only-of-type {\n",
       "        vertical-align: middle;\n",
       "    }\n",
       "\n",
       "    .dataframe tbody tr th {\n",
       "        vertical-align: top;\n",
       "    }\n",
       "\n",
       "    .dataframe thead th {\n",
       "        text-align: right;\n",
       "    }\n",
       "</style>\n",
       "<table border=\"1\" class=\"dataframe\">\n",
       "  <thead>\n",
       "    <tr style=\"text-align: right;\">\n",
       "      <th></th>\n",
       "      <th>tweet_id</th>\n",
       "      <th>date</th>\n",
       "      <th>text</th>\n",
       "      <th>month</th>\n",
       "      <th>tidy_text</th>\n",
       "      <th>language</th>\n",
       "    </tr>\n",
       "  </thead>\n",
       "  <tbody>\n",
       "    <tr>\n",
       "      <th>0</th>\n",
       "      <td>0</td>\n",
       "      <td>2020-09-29</td>\n",
       "      <td>My lower back pain came out of no where tonight jeeeeeeeeez https://t.co/OHpzYJjY7p</td>\n",
       "      <td>2020-09</td>\n",
       "      <td>My lower back pain came out of no where tonight jeez _IMAGE</td>\n",
       "      <td>en</td>\n",
       "    </tr>\n",
       "    <tr>\n",
       "      <th>1</th>\n",
       "      <td>1</td>\n",
       "      <td>2020-09-29</td>\n",
       "      <td>@FruitKace For me it is my hips. Lower back pain = stretch, stretch, stretch.</td>\n",
       "      <td>2020-09</td>\n",
       "      <td>@FruitKace For me it is my hips. Lower back pain = stretch, stretch, stretch.</td>\n",
       "      <td>en</td>\n",
       "    </tr>\n",
       "    <tr>\n",
       "      <th>2</th>\n",
       "      <td>2</td>\n",
       "      <td>2020-09-29</td>\n",
       "      <td>\"We don't need bodyguard.\\nWe don't need coocker.\\nWe don't need house cleaner.\\n\\nWe need a fucking massager. Like, I'd literally do anything for some, people have no idea how painful it is to lay down and feel that back pain when all you want to do is to sleep. \"</td>\n",
       "      <td>2020-09</td>\n",
       "      <td>\"We don't need bodyguard. We don't need coocker. We don't need house cleaner. We need a fucking massager. Like, I'd literally do anything for some, people have no idea how painful it is to lay down and feel that back pain when all you want to do is to sleep. \"</td>\n",
       "      <td>en</td>\n",
       "    </tr>\n",
       "    <tr>\n",
       "      <th>3</th>\n",
       "      <td>3</td>\n",
       "      <td>2020-09-29</td>\n",
       "      <td>@AlexMLeo Rolfing saved me from back pain.</td>\n",
       "      <td>2020-09</td>\n",
       "      <td>@AlexMLeo Rolfing saved me from back pain.</td>\n",
       "      <td>en</td>\n",
       "    </tr>\n",
       "    <tr>\n",
       "      <th>4</th>\n",
       "      <td>4</td>\n",
       "      <td>2020-09-29</td>\n",
       "      <td>Back pain and insomnia 🥴 https://t.co/3n0xEIkT21</td>\n",
       "      <td>2020-09</td>\n",
       "      <td>Back pain and insomnia :woozy face: _IMAGE</td>\n",
       "      <td>en</td>\n",
       "    </tr>\n",
       "    <tr>\n",
       "      <th>...</th>\n",
       "      <td>...</td>\n",
       "      <td>...</td>\n",
       "      <td>...</td>\n",
       "      <td>...</td>\n",
       "      <td>...</td>\n",
       "      <td>...</td>\n",
       "    </tr>\n",
       "    <tr>\n",
       "      <th>530305</th>\n",
       "      <td>530305</td>\n",
       "      <td>2019-03-01</td>\n",
       "      <td>💵🎧Magno Garcia x General Back Pain “Ballin On A Budget” Prod by ⁦@charliesdizz⁩ 🎧💵  soundcloud.com/magnogarcia/ma…</td>\n",
       "      <td>2019-03</td>\n",
       "      <td>:dollar banknote::headphone:Magno Garcia x General Back Pain “Ballin On A Budget” Prod by ⁦@charliesdizz⁩ :headphone::dollar banknote:  _URL…</td>\n",
       "      <td>en</td>\n",
       "    </tr>\n",
       "    <tr>\n",
       "      <th>530306</th>\n",
       "      <td>530306</td>\n",
       "      <td>2019-03-01</td>\n",
       "      <td>@COMPLEXcsgo You still have back pain?</td>\n",
       "      <td>2019-03</td>\n",
       "      <td>@COMPLEXcsgo You still have back pain?</td>\n",
       "      <td>en</td>\n",
       "    </tr>\n",
       "    <tr>\n",
       "      <th>530307</th>\n",
       "      <td>530307</td>\n",
       "      <td>2019-03-01</td>\n",
       "      <td>This is everything I ever wanted and more. My heart is healed. My acne is gone. My back pain has faded. I am at peace. twitter.com/midnigtartist/…</td>\n",
       "      <td>2019-03</td>\n",
       "      <td>This is everything I ever wanted and more. My heart is healed. My acne is gone. My back pain has faded. I am at peace.  _RETWEET…</td>\n",
       "      <td>en</td>\n",
       "    </tr>\n",
       "    <tr>\n",
       "      <th>530308</th>\n",
       "      <td>530308</td>\n",
       "      <td>2019-03-01</td>\n",
       "      <td>A short video to kick off this month's campaign on back pain bit.ly/2SyjZoI co-kinetic.com/twittervideo/2…</td>\n",
       "      <td>2019-03</td>\n",
       "      <td>A short video to kick off this month's campaign on back pain  _URL co- _URL…</td>\n",
       "      <td>en</td>\n",
       "    </tr>\n",
       "    <tr>\n",
       "      <th>530309</th>\n",
       "      <td>530309</td>\n",
       "      <td>2019-03-01</td>\n",
       "      <td>Think stretching your hamstrings will help your back pain? Here's why it's probably making it worse...\\n1l.ink/Z6W76MQ</td>\n",
       "      <td>2019-03</td>\n",
       "      <td>Think stretching your hamstrings will help your back pain? Here's why it's probably making it worse.. 1l.ink/Z6W76MQ</td>\n",
       "      <td>en</td>\n",
       "    </tr>\n",
       "  </tbody>\n",
       "</table>\n",
       "<p>530310 rows × 6 columns</p>\n",
       "</div>"
      ],
      "text/plain": [
       "        tweet_id  ... language\n",
       "0       0         ...  en     \n",
       "1       1         ...  en     \n",
       "2       2         ...  en     \n",
       "3       3         ...  en     \n",
       "4       4         ...  en     \n",
       "...    ..         ...  ..     \n",
       "530305  530305    ...  en     \n",
       "530306  530306    ...  en     \n",
       "530307  530307    ...  en     \n",
       "530308  530308    ...  en     \n",
       "530309  530309    ...  en     \n",
       "\n",
       "[530310 rows x 6 columns]"
      ]
     },
     "execution_count": 54,
     "metadata": {
      "tags": []
     },
     "output_type": "execute_result"
    }
   ],
   "source": [
    "df['language'] = df['tidy_text'].map(lambda x:kfdetect(x))\n",
    "df"
   ]
  },
  {
   "cell_type": "code",
   "execution_count": null,
   "metadata": {
    "colab": {
     "base_uri": "https://localhost:8080/"
    },
    "id": "g1CK_NcUm4QU",
    "outputId": "3a91eaa1-e09b-4ee1-c294-91b284b67282"
   },
   "outputs": [
    {
     "data": {
      "text/plain": [
       "530291"
      ]
     },
     "execution_count": 55,
     "metadata": {
      "tags": []
     },
     "output_type": "execute_result"
    }
   ],
   "source": [
    "normal_tweet = df[df['language'] != 'NA']\n",
    "len(normal_tweet)"
   ]
  },
  {
   "cell_type": "code",
   "execution_count": null,
   "metadata": {
    "colab": {
     "base_uri": "https://localhost:8080/",
     "height": 1000
    },
    "id": "A4uGzkJorLsr",
    "outputId": "23ecb835-8132-4158-80b3-683aaad7a38f"
   },
   "outputs": [
    {
     "data": {
      "text/html": [
       "<div>\n",
       "<style scoped>\n",
       "    .dataframe tbody tr th:only-of-type {\n",
       "        vertical-align: middle;\n",
       "    }\n",
       "\n",
       "    .dataframe tbody tr th {\n",
       "        vertical-align: top;\n",
       "    }\n",
       "\n",
       "    .dataframe thead th {\n",
       "        text-align: right;\n",
       "    }\n",
       "</style>\n",
       "<table border=\"1\" class=\"dataframe\">\n",
       "  <thead>\n",
       "    <tr style=\"text-align: right;\">\n",
       "      <th></th>\n",
       "      <th>tweet_id</th>\n",
       "      <th>date</th>\n",
       "      <th>text</th>\n",
       "      <th>month</th>\n",
       "      <th>tidy_text</th>\n",
       "      <th>language</th>\n",
       "    </tr>\n",
       "  </thead>\n",
       "  <tbody>\n",
       "    <tr>\n",
       "      <th>70168</th>\n",
       "      <td>70168</td>\n",
       "      <td>2020-08-13</td>\n",
       "      <td>https://tfclarkfitnessmagazine.jcom/the-top-3-exercises-for-lower-back-pain/</td>\n",
       "      <td>2020-08</td>\n",
       "      <td>https://tfclarkfitnessmagazine.jcom/the-top-3-exercises-for-lower-back-pain/</td>\n",
       "      <td>NA</td>\n",
       "    </tr>\n",
       "    <tr>\n",
       "      <th>75940</th>\n",
       "      <td>75940</td>\n",
       "      <td>2020-08-10</td>\n",
       "      <td>𝗧𝗲𝘀𝘁𝗶𝗺𝗼𝗻𝗶𝗮𝗹\\n𝗡𝗮𝗺𝗲 𝗼𝗳 𝗣𝗮𝘁𝗶𝗲𝗻𝘁: 𝗠𝗿𝘀 𝗦𝘂𝗻𝗶𝘁𝗮 𝗝𝗼𝘀𝗵𝗶\\n𝗔𝗴𝗲: 𝟲𝟭 𝘆𝗲𝗮𝗿𝘀\\n𝗗𝗶𝘀𝗼𝗿𝗱𝗲𝗿 𝗖𝘂𝗿𝗲𝗱: 𝗦𝘁𝗼𝗺𝗮𝗰𝗵 𝗜𝗻𝗳𝗲𝗰𝘁𝗶𝗼𝗻\\n𝗟𝗶𝗻𝗸 𝗳𝗼𝗿 𝗧𝗲𝘀𝘁𝗶𝗺𝗼𝗻𝗶𝗮𝗹 𝗩𝗶𝗱𝗲𝗼:youtu.be/HbjoY2nqMnM\\n#backpain #kneepain #healthy https://t.co/zuixjJcNc4</td>\n",
       "      <td>2020-08</td>\n",
       "      <td>𝗧𝗲𝘀𝘁𝗶𝗺𝗼𝗻𝗶𝗮𝗹 𝗡𝗮𝗺𝗲 𝗼𝗳 𝗣𝗮𝘁𝗶𝗲𝗻𝘁: 𝗠𝗿𝘀 𝗦𝘂𝗻𝗶𝘁𝗮 𝗝𝗼𝘀𝗵𝗶 𝗔𝗴𝗲: 𝟲𝟭 𝘆𝗲𝗮𝗿𝘀 𝗗𝗶𝘀𝗼𝗿𝗱𝗲𝗿 𝗖𝘂𝗿𝗲𝗱: 𝗦𝘁𝗼𝗺𝗮𝗰𝗵 𝗜𝗻𝗳𝗲𝗰𝘁𝗶𝗼𝗻 𝗟𝗶𝗻𝗸 𝗳𝗼𝗿 𝗧𝗲𝘀𝘁𝗶𝗺𝗼𝗻𝗶𝗮𝗹 𝗩𝗶𝗱𝗲𝗼: _URL #backpain #kneepain #healthy _IMAGE</td>\n",
       "      <td>NA</td>\n",
       "    </tr>\n",
       "    <tr>\n",
       "      <th>91494</th>\n",
       "      <td>91494</td>\n",
       "      <td>2020-07-30</td>\n",
       "      <td>@dushnivi @daughterislife සාමාන්‍යයෙන් ස්ථූල අයට, වැඩි වේලාවක් වාඩි වෙලා (පරිගණක ආශ්‍රිතව වගේ) වැඩ කරන අයට, ව්‍යායාම්  අඩු අයට, mechanical low back pain එකක් ඇති වීමේ සම්භාවිතාවය අඩුයි.</td>\n",
       "      <td>2020-07</td>\n",
       "      <td>@dushnivi @daughterislife සාමාන්‍යයෙන් ස්ථූල අයට, වැඩි වේලාවක් වාඩි වෙලා (පරිගණක ආශ්‍රිතව වගේ) වැඩ කරන අයට, ව්‍යායාම් අඩු අයට, mechanical low back pain එකක් ඇති වීමේ සම්භාවිතාවය අඩුයි.</td>\n",
       "      <td>NA</td>\n",
       "    </tr>\n",
       "    <tr>\n",
       "      <th>108846</th>\n",
       "      <td>108846</td>\n",
       "      <td>2020-07-20</td>\n",
       "      <td>#𝗧𝗲𝘀𝘁𝗶𝗺𝗼𝗻𝗶𝗮𝗹\\n𝗡𝗮𝗺𝗲 𝗼𝗳 𝗣𝗮𝘁𝗶𝗲𝗻𝘁: 𝗥𝗮𝗷𝘃𝗲𝗲𝗿 𝗚𝗮𝗱𝗲𝗸𝗮𝗿\\n𝗔𝗴𝗲: 𝟮.𝟱 𝘆𝗲𝗮𝗿𝘀\\n𝗗𝗶𝘀𝗼𝗿𝗱𝗲𝗿 𝗖𝘂𝗿𝗲𝗱: 𝗟𝗼𝘀𝘀 𝗼𝗳 𝗛𝗲𝗮𝗿𝗶𝗻𝗴\\n𝗟𝗶𝗻𝗸 𝗳𝗼𝗿 𝗧𝗲𝘀𝘁𝗶𝗺𝗼𝗻𝗶𝗮𝗹 𝗩𝗶𝗱𝗲𝗼 -youtu.be/NDMmTr6zhVw\\n#Backpain #JointPain #ayurvedic https://t.co/yaUqCV8KtU</td>\n",
       "      <td>2020-07</td>\n",
       "      <td>#𝗧𝗲𝘀𝘁𝗶𝗺𝗼𝗻𝗶𝗮𝗹 𝗡𝗮𝗺𝗲 𝗼𝗳 𝗣𝗮𝘁𝗶𝗲𝗻𝘁: 𝗥𝗮𝗷𝘃𝗲𝗲𝗿 𝗚𝗮𝗱𝗲𝗸𝗮𝗿 𝗔𝗴𝗲: 𝟮.𝟱 𝘆𝗲𝗮𝗿𝘀 𝗗𝗶𝘀𝗼𝗿𝗱𝗲𝗿 𝗖𝘂𝗿𝗲𝗱: 𝗟𝗼𝘀𝘀 𝗼𝗳 𝗛𝗲𝗮𝗿𝗶𝗻𝗴 𝗟𝗶𝗻𝗸 𝗳𝗼𝗿 𝗧𝗲𝘀𝘁𝗶𝗺𝗼𝗻𝗶𝗮𝗹 𝗩𝗶𝗱𝗲𝗼 - _URL #Backpain #JointPain #ayurvedic _IMAGE</td>\n",
       "      <td>NA</td>\n",
       "    </tr>\n",
       "    <tr>\n",
       "      <th>123564</th>\n",
       "      <td>123564</td>\n",
       "      <td>2020-07-11</td>\n",
       "      <td>Ｂａｃｋｐａｉｎ</td>\n",
       "      <td>2020-07</td>\n",
       "      <td>Ｂａｃｋｐａｉｎ</td>\n",
       "      <td>NA</td>\n",
       "    </tr>\n",
       "    <tr>\n",
       "      <th>128726</th>\n",
       "      <td>128726</td>\n",
       "      <td>2020-07-08</td>\n",
       "      <td>ʰᵉˡˡᵒ ᵇᵃᶜᵏ ᵖᵃⁱⁿ</td>\n",
       "      <td>2020-07</td>\n",
       "      <td>ʰᵉˡˡᵒ ᵇᵃᶜᵏ ᵖᵃⁱⁿ</td>\n",
       "      <td>NA</td>\n",
       "    </tr>\n",
       "    <tr>\n",
       "      <th>135206</th>\n",
       "      <td>135206</td>\n",
       "      <td>2020-07-04</td>\n",
       "      <td>ＢＡＣＫＰＡＩＮ</td>\n",
       "      <td>2020-07</td>\n",
       "      <td>ＢＡＣＫＰＡＩＮ</td>\n",
       "      <td>NA</td>\n",
       "    </tr>\n",
       "    <tr>\n",
       "      <th>273877</th>\n",
       "      <td>273877</td>\n",
       "      <td>2020-03-15</td>\n",
       "      <td>Back pain? I don’t know her.           ⁽ʰᵃʰᵃ ʰᵃʰᵃ ⁿᵒᵗ ʳᵉᵃˡˡʸ ᴵ ᵃᵐ ʷᵉˡˡ ᵃᵠᵘᵃᵗᶦⁿᵗᵉᵈ ᵃⁿᵈ ᵃᵐ ˢᵁᶠᶠᴱᴿᴵᴺᴳ,,, ᵖˡᵉᵃˢᵉ ᶠᵒʳ ᵗʰᵉ ˡᵒᵛᵉ ᵒᶠ ˢᵒᵘⁿᵈ ˢˡᵉᵉᵖ ᵃⁿᵈ ʸᵒᵘʳ ᴸᵁᴺᴳˢ ᵖʳᵃᶜᵗᶦᶜᵉ ˢᵃᶠᵉ ᵇᶦⁿᵈᶦⁿᵍ⁾ https://t.co/sSpxZjpR7Z</td>\n",
       "      <td>2020-03</td>\n",
       "      <td>Back pain? I don’t know her. ⁽ʰᵃʰᵃ ʰᵃʰᵃ ⁿᵒᵗ ʳᵉᵃˡˡʸ ᴵ ᵃᵐ ʷᵉˡˡ ᵃᵠᵘᵃᵗᶦⁿᵗᵉᵈ ᵃⁿᵈ ᵃᵐ ˢᵁᶠᶠᴱᴿᴵᴺᴳ,, ᵖˡᵉᵃˢᵉ ᶠᵒʳ ᵗʰᵉ ˡᵒᵛᵉ ᵒᶠ ˢᵒᵘⁿᵈ ˢˡᵉᵉᵖ ᵃⁿᵈ ʸᵒᵘʳ ᴸᵁᴺᴳˢ ᵖʳᵃᶜᵗᶦᶜᵉ ˢᵃᶠᵉ ᵇᶦⁿᵈᶦⁿᵍ⁾ _IMAGE</td>\n",
       "      <td>NA</td>\n",
       "    </tr>\n",
       "    <tr>\n",
       "      <th>331091</th>\n",
       "      <td>331091</td>\n",
       "      <td>2019-08-25</td>\n",
       "      <td>【Ｂａｃｋ　Ｐａｉｎ】</td>\n",
       "      <td>2019-08</td>\n",
       "      <td>【Ｂａｃｋ Ｐａｉｎ】</td>\n",
       "      <td>NA</td>\n",
       "    </tr>\n",
       "    <tr>\n",
       "      <th>358836</th>\n",
       "      <td>358836</td>\n",
       "      <td>2019-07-30</td>\n",
       "      <td>▬▬▬.◙.▬▬▬ \\n═▂▄▄▓▄▄▂ \\n◢◤ █▀▀████▄▄▄▄◢◤ \\n█▄ █ █▄ ███▀▀▀▀▀▀▀╬ \\n◥█████◤ \\n══╩══╩══\\n╬═╬\\n╬═╬\\n╬═╬\\n╬═╬  Dropping in to\\n╬═╬  take away your \\n╬═╬  back pain\\n╬═╬ \\n╬═╬☻/ \\n╬═╬/▌ \\n╬═╬/</td>\n",
       "      <td>2019-07</td>\n",
       "      <td>▬▬.◙.▬▬ ═▂▄▄▓▄▄▂ ◢◤ █▀▀██▄▄◢◤ █▄ █ █▄ ██▀▀╬ ◥██◤ ══╩══╩══ ╬═╬ ╬═╬ ╬═╬ ╬═╬ Dropping in to ╬═╬ take away your ╬═╬ back pain ╬═╬ ╬═╬☻/ ╬═╬/▌ ╬═╬/</td>\n",
       "      <td>NA</td>\n",
       "    </tr>\n",
       "    <tr>\n",
       "      <th>368691</th>\n",
       "      <td>368691</td>\n",
       "      <td>2019-07-22</td>\n",
       "      <td>ເປັນສະມາຊິກວົງໄອດໍ backpain</td>\n",
       "      <td>2019-07</td>\n",
       "      <td>ເປັນສະມາຊິກວົງໄອດໍ backpain</td>\n",
       "      <td>NA</td>\n",
       "    </tr>\n",
       "    <tr>\n",
       "      <th>377135</th>\n",
       "      <td>377135</td>\n",
       "      <td>2019-07-15</td>\n",
       "      <td>ມັກທີ່ໂຕເອງຈື່ລາຍລະອຽດເລັກໆນ້ອຍໆຂອງລູກຄ້າໄດ້. ຈື່ໄດ້ວ່າຜູ້ນັ້ນມັກກິນຫຍັງ ຜູ້ນີ້ກິນຫຍັງບໍ່ໄດ້ ລະລ່າສຸດ ນີ້ຈັດໂຕະໃຫ້ເຂົານັ່ງ ບອກວ່ານັ່ງທາງຫລັງດີບໍ່ ເພາະຕັ່ງດ້ານຫລັງມັນມີບ່ອນອີງນຳ ລະລາວກັບແຟນກະອຶ້ງແຮງ ທີ່ນີ້ຈື່ໄດ້ວ່າຄູ່ນັ້ນ ເຂົາມີ back pain ຈຳເປັນຕ້ອງໄດ້ມີບ່ອນອີງເວລານັ່ງ\\nອິອິ :3</td>\n",
       "      <td>2019-07</td>\n",
       "      <td>ມັກທີ່ໂຕເອງຈື່ລາຍລະອຽດເລັກໆນ້ອຍໆຂອງລູກຄ້າໄດ້. ຈື່ໄດ້ວ່າຜູ້ນັ້ນມັກກິນຫຍັງ ຜູ້ນີ້ກິນຫຍັງບໍ່ໄດ້ ລະລ່າສຸດ ນີ້ຈັດໂຕະໃຫ້ເຂົານັ່ງ ບອກວ່ານັ່ງທາງຫລັງດີບໍ່ ເພາະຕັ່ງດ້ານຫລັງມັນມີບ່ອນອີງນຳ ລະລາວກັບແຟນກະອຶ້ງແຮງ ທີ່ນີ້ຈື່ໄດ້ວ່າຄູ່ນັ້ນ ເຂົາມີ back pain ຈຳເປັນຕ້ອງໄດ້ມີບ່ອນອີງເວລານັ່ງ ອິອິ :3</td>\n",
       "      <td>NA</td>\n",
       "    </tr>\n",
       "    <tr>\n",
       "      <th>450611</th>\n",
       "      <td>450611</td>\n",
       "      <td>2019-05-09</td>\n",
       "      <td>Can my ᶜᵒⁿˢᵗᵃⁿᵗ ᶠᵘᶜᵏⁱⁿᵍ ᵇᵃᶜᵏ ᵖᵃⁱⁿ not ??!!!</td>\n",
       "      <td>2019-05</td>\n",
       "      <td>Can my ᶜᵒⁿˢᵗᵃⁿᵗ ᶠᵘᶜᵏⁱⁿᵍ ᵇᵃᶜᵏ ᵖᵃⁱⁿ not ??!!</td>\n",
       "      <td>NA</td>\n",
       "    </tr>\n",
       "    <tr>\n",
       "      <th>460694</th>\n",
       "      <td>460694</td>\n",
       "      <td>2019-05-01</td>\n",
       "      <td>ᶜᵒⁿˢᵗᵃⁿᵗ ᶠᵘᶜᵏⁱⁿᵍ ᵇᵃᶜᵏ ᵖᵃⁱⁿ</td>\n",
       "      <td>2019-05</td>\n",
       "      <td>ᶜᵒⁿˢᵗᵃⁿᵗ ᶠᵘᶜᵏⁱⁿᵍ ᵇᵃᶜᵏ ᵖᵃⁱⁿ</td>\n",
       "      <td>NA</td>\n",
       "    </tr>\n",
       "    <tr>\n",
       "      <th>486375</th>\n",
       "      <td>486375</td>\n",
       "      <td>2019-04-07</td>\n",
       "      <td>ｂａｃｋ\\nｐａｉｎ\\nｂａｃｋ\\nｐａｉｎ\\nｂａｃｋ\\nｐａｉｎ\\nｂａｃｋ\\nｐａｉｎ</td>\n",
       "      <td>2019-04</td>\n",
       "      <td>ｂａｃｋ ｐａｉｎ ｂａｃｋ ｐａｉｎ ｂａｃｋ ｐａｉｎ ｂａｃｋ ｐａｉｎ</td>\n",
       "      <td>NA</td>\n",
       "    </tr>\n",
       "    <tr>\n",
       "      <th>517493</th>\n",
       "      <td>517493</td>\n",
       "      <td>2019-03-12</td>\n",
       "      <td>hi i have ᶜᴼᴺˢᵀᴬᴺᵀ ᴮᴬᶜᴷ ᴾᴬᴵᴺ</td>\n",
       "      <td>2019-03</td>\n",
       "      <td>hi i have ᶜᴼᴺˢᵀᴬᴺᵀ ᴮᴬᶜᴷ ᴾᴬᴵᴺ</td>\n",
       "      <td>NA</td>\n",
       "    </tr>\n",
       "    <tr>\n",
       "      <th>523864</th>\n",
       "      <td>523864</td>\n",
       "      <td>2019-03-06</td>\n",
       "      <td>*ᶜᵒⁿˢᵗᵃⁿᵗ ᶠᵘᶜᵏⁱⁿᵍ ᵇᵃᶜᵏ ᵖᵃⁱⁿ*\\n\\nᵐᵉ: https://t.co/QwU500H8PC</td>\n",
       "      <td>2019-03</td>\n",
       "      <td>*ᶜᵒⁿˢᵗᵃⁿᵗ ᶠᵘᶜᵏⁱⁿᵍ ᵇᵃᶜᵏ ᵖᵃⁱⁿ* ᵐᵉ: _IMAGE</td>\n",
       "      <td>NA</td>\n",
       "    </tr>\n",
       "    <tr>\n",
       "      <th>528706</th>\n",
       "      <td>528706</td>\n",
       "      <td>2019-03-02</td>\n",
       "      <td>ᶜᵒⁿˢᵗᵃⁿᵗ ᶠᵘᶜᵏⁱⁿᵍ ᵇᵃᶜᵏ ᵖᵃⁱⁿ</td>\n",
       "      <td>2019-03</td>\n",
       "      <td>ᶜᵒⁿˢᵗᵃⁿᵗ ᶠᵘᶜᵏⁱⁿᵍ ᵇᵃᶜᵏ ᵖᵃⁱⁿ</td>\n",
       "      <td>NA</td>\n",
       "    </tr>\n",
       "    <tr>\n",
       "      <th>529916</th>\n",
       "      <td>529916</td>\n",
       "      <td>2019-03-01</td>\n",
       "      <td>I have a ᶜᵒⁿˢᵗᵃⁿᵗ ᶠᵘᶜᵏⁱⁿᵍ ᵇᵃᶜᵏ ᵖᵃⁱⁿ</td>\n",
       "      <td>2019-03</td>\n",
       "      <td>I have a ᶜᵒⁿˢᵗᵃⁿᵗ ᶠᵘᶜᵏⁱⁿᵍ ᵇᵃᶜᵏ ᵖᵃⁱⁿ</td>\n",
       "      <td>NA</td>\n",
       "    </tr>\n",
       "  </tbody>\n",
       "</table>\n",
       "</div>"
      ],
      "text/plain": [
       "        tweet_id  ... language\n",
       "70168   70168     ...  NA     \n",
       "75940   75940     ...  NA     \n",
       "91494   91494     ...  NA     \n",
       "108846  108846    ...  NA     \n",
       "123564  123564    ...  NA     \n",
       "128726  128726    ...  NA     \n",
       "135206  135206    ...  NA     \n",
       "273877  273877    ...  NA     \n",
       "331091  331091    ...  NA     \n",
       "358836  358836    ...  NA     \n",
       "368691  368691    ...  NA     \n",
       "377135  377135    ...  NA     \n",
       "450611  450611    ...  NA     \n",
       "460694  460694    ...  NA     \n",
       "486375  486375    ...  NA     \n",
       "517493  517493    ...  NA     \n",
       "523864  523864    ...  NA     \n",
       "528706  528706    ...  NA     \n",
       "529916  529916    ...  NA     \n",
       "\n",
       "[19 rows x 6 columns]"
      ]
     },
     "execution_count": 56,
     "metadata": {
      "tags": []
     },
     "output_type": "execute_result"
    }
   ],
   "source": [
    "abnormal_tweet = df[df['language'] == 'NA']\n",
    "abnormal_tweet"
   ]
  },
  {
   "cell_type": "code",
   "execution_count": null,
   "metadata": {
    "colab": {
     "base_uri": "https://localhost:8080/"
    },
    "id": "KTwpQi9NtIai",
    "outputId": "2245eb03-51ac-4236-f2fa-4d19ef50e6f4"
   },
   "outputs": [
    {
     "data": {
      "text/plain": [
       "tweet_id     19\n",
       "date         19\n",
       "text         19\n",
       "month        19\n",
       "tidy_text    19\n",
       "language     19\n",
       "dtype: int64"
      ]
     },
     "execution_count": 57,
     "metadata": {
      "tags": []
     },
     "output_type": "execute_result"
    }
   ],
   "source": [
    "df[df['language'] == 'NA'].count()"
   ]
  },
  {
   "cell_type": "code",
   "execution_count": null,
   "metadata": {
    "colab": {
     "base_uri": "https://localhost:8080/"
    },
    "id": "uK0Sr8ZOPg5K",
    "outputId": "0fca9d59-0c74-4770-b41e-7a43a10471a2"
   },
   "outputs": [
    {
     "data": {
      "text/plain": [
       "499868"
      ]
     },
     "execution_count": 58,
     "metadata": {
      "tags": []
     },
     "output_type": "execute_result"
    }
   ],
   "source": [
    "english_tweet = df[df['language'] == 'en']\n",
    "len(english_tweet)"
   ]
  },
  {
   "cell_type": "code",
   "execution_count": null,
   "metadata": {
    "colab": {
     "base_uri": "https://localhost:8080/"
    },
    "id": "kuQtnP9sm5W1",
    "outputId": "7988cb41-28ac-4088-e88c-590ced33493e"
   },
   "outputs": [
    {
     "data": {
      "text/plain": [
       "30442"
      ]
     },
     "execution_count": 59,
     "metadata": {
      "tags": []
     },
     "output_type": "execute_result"
    }
   ],
   "source": [
    "non_english_tweet = df[df['language'] != 'en']\n",
    "len(non_english_tweet)"
   ]
  },
  {
   "cell_type": "code",
   "execution_count": null,
   "metadata": {
    "colab": {
     "base_uri": "https://localhost:8080/",
     "height": 648
    },
    "id": "L7zlFcCWY1ha",
    "outputId": "63902fe8-2645-4349-b88a-2d20717c1592"
   },
   "outputs": [
    {
     "data": {
      "text/html": [
       "<div>\n",
       "<style scoped>\n",
       "    .dataframe tbody tr th:only-of-type {\n",
       "        vertical-align: middle;\n",
       "    }\n",
       "\n",
       "    .dataframe tbody tr th {\n",
       "        vertical-align: top;\n",
       "    }\n",
       "\n",
       "    .dataframe thead th {\n",
       "        text-align: right;\n",
       "    }\n",
       "</style>\n",
       "<table border=\"1\" class=\"dataframe\">\n",
       "  <thead>\n",
       "    <tr style=\"text-align: right;\">\n",
       "      <th></th>\n",
       "      <th>tweet_id</th>\n",
       "      <th>date</th>\n",
       "      <th>text</th>\n",
       "      <th>month</th>\n",
       "      <th>tidy_text</th>\n",
       "      <th>language</th>\n",
       "    </tr>\n",
       "  </thead>\n",
       "  <tbody>\n",
       "    <tr>\n",
       "      <th>10</th>\n",
       "      <td>10</td>\n",
       "      <td>2020-09-29</td>\n",
       "      <td>@QnA18MENFESS Hai nder. Kamu ada low back pain kayanya ya? Coba baca2 tentang itu. Trus coba diperhatiin kamu ada tanda2 skolio ga.</td>\n",
       "      <td>2020-09</td>\n",
       "      <td>@QnA18MENFESS Hai nder. Kamu ada low back pain kayanya ya? Coba baca2 tentang itu. Trus coba diperhatiin kamu ada tanda2 skolio ga.</td>\n",
       "      <td>id</td>\n",
       "    </tr>\n",
       "    <tr>\n",
       "      <th>49</th>\n",
       "      <td>49</td>\n",
       "      <td>2020-09-29</td>\n",
       "      <td>Badtrip gyud kay ni akong maduf*kin back pain bay</td>\n",
       "      <td>2020-09</td>\n",
       "      <td>Badtrip gyud kay ni akong maduf*kin back pain bay</td>\n",
       "      <td>tl</td>\n",
       "    </tr>\n",
       "    <tr>\n",
       "      <th>59</th>\n",
       "      <td>59</td>\n",
       "      <td>2020-09-29</td>\n",
       "      <td>本当に結果だけが重要です。 いくら頑張っても受からなかったらうんこなんです。 #共感したらRT</td>\n",
       "      <td>2020-09</td>\n",
       "      <td>本当に結果だけが重要です。 いくら頑張っても受からなかったらうんこなんです。 #共感したらRT</td>\n",
       "      <td>ja</td>\n",
       "    </tr>\n",
       "    <tr>\n",
       "      <th>83</th>\n",
       "      <td>83</td>\n",
       "      <td>2020-09-29</td>\n",
       "      <td>maika's back = pain twitter.com/eli_miranduh/s…</td>\n",
       "      <td>2020-09</td>\n",
       "      <td>maika's back = pain  _RETWEET…</td>\n",
       "      <td>id</td>\n",
       "    </tr>\n",
       "    <tr>\n",
       "      <th>87</th>\n",
       "      <td>87</td>\n",
       "      <td>2020-09-29</td>\n",
       "      <td>Pain. \\n\\nBack pain.</td>\n",
       "      <td>2020-09</td>\n",
       "      <td>Pain. Back pain.</td>\n",
       "      <td>id</td>\n",
       "    </tr>\n",
       "    <tr>\n",
       "      <th>...</th>\n",
       "      <td>...</td>\n",
       "      <td>...</td>\n",
       "      <td>...</td>\n",
       "      <td>...</td>\n",
       "      <td>...</td>\n",
       "      <td>...</td>\n",
       "    </tr>\n",
       "    <tr>\n",
       "      <th>530220</th>\n",
       "      <td>530220</td>\n",
       "      <td>2019-03-01</td>\n",
       "      <td>Back pain + Migraine 😭 1 linggo ng laging ganto ah.</td>\n",
       "      <td>2019-03</td>\n",
       "      <td>Back pain + Migraine :loudly crying face: 1 linggo ng laging ganto ah.</td>\n",
       "      <td>tl</td>\n",
       "    </tr>\n",
       "    <tr>\n",
       "      <th>530231</th>\n",
       "      <td>530231</td>\n",
       "      <td>2019-03-01</td>\n",
       "      <td>Di makabangon sa sobrang sakit. 😭 #Backpain</td>\n",
       "      <td>2019-03</td>\n",
       "      <td>Di makabangon sa sobrang sakit. :loudly crying face: #Backpain</td>\n",
       "      <td>tl</td>\n",
       "    </tr>\n",
       "    <tr>\n",
       "      <th>530235</th>\n",
       "      <td>530235</td>\n",
       "      <td>2019-03-01</td>\n",
       "      <td>Back pain!!!</td>\n",
       "      <td>2019-03</td>\n",
       "      <td>Back pain!!</td>\n",
       "      <td>id</td>\n",
       "    </tr>\n",
       "    <tr>\n",
       "      <th>530245</th>\n",
       "      <td>530245</td>\n",
       "      <td>2019-03-01</td>\n",
       "      <td>腰痛や背中、肩や首、Back Painにはパーフェクトチェア。\\n運動後のリカバリーにも最適、アメリカではオリンピックメダリストやトップアスリートが使用している高級リクライニングチェア！\\n\\nhumantouchjapan.com/product/perfec…</td>\n",
       "      <td>2019-03</td>\n",
       "      <td>腰痛や背中、肩や首、Back Painにはパーフェクトチェア。 運動後のリカバリーにも最適、アメリカではオリンピックメダリストやトップアスリートが使用している高級リクライニングチェア！  _URL…</td>\n",
       "      <td>ja</td>\n",
       "    </tr>\n",
       "    <tr>\n",
       "      <th>530279</th>\n",
       "      <td>530279</td>\n",
       "      <td>2019-03-01</td>\n",
       "      <td>@mafilabucuas Ma feel na nako ang back pain *bug.at kaayo HAHAHAH</td>\n",
       "      <td>2019-03</td>\n",
       "      <td>@mafilabucuas Ma feel na nako ang back pain *bug.at kaayo HAHAH</td>\n",
       "      <td>tl</td>\n",
       "    </tr>\n",
       "  </tbody>\n",
       "</table>\n",
       "<p>30442 rows × 6 columns</p>\n",
       "</div>"
      ],
      "text/plain": [
       "        tweet_id  ... language\n",
       "10      10        ...  id     \n",
       "49      49        ...  tl     \n",
       "59      59        ...  ja     \n",
       "83      83        ...  id     \n",
       "87      87        ...  id     \n",
       "...     ..        ...  ..     \n",
       "530220  530220    ...  tl     \n",
       "530231  530231    ...  tl     \n",
       "530235  530235    ...  id     \n",
       "530245  530245    ...  ja     \n",
       "530279  530279    ...  tl     \n",
       "\n",
       "[30442 rows x 6 columns]"
      ]
     },
     "execution_count": 60,
     "metadata": {
      "tags": []
     },
     "output_type": "execute_result"
    }
   ],
   "source": [
    "non_english_tweet"
   ]
  },
  {
   "cell_type": "code",
   "execution_count": null,
   "metadata": {
    "id": "bsxmDC2dRipW"
   },
   "outputs": [],
   "source": []
  },
  {
   "cell_type": "code",
   "execution_count": null,
   "metadata": {
    "id": "JK_5D2U_DASJ"
   },
   "outputs": [],
   "source": [
    "# save non_english_tweets as a excel file\n",
    "\n",
    "non_english_tweet.to_excel('non_english_tweets.xlsx', index=False)"
   ]
  },
  {
   "cell_type": "code",
   "execution_count": null,
   "metadata": {
    "id": "Eu7DriTaI3Su"
   },
   "outputs": [],
   "source": [
    "back_pain_random_sample = english_tweet.sample(n=5000, random_state=1)\n",
    "back_pain_random_sample.to_excel('back_pain_tweets.xlsx', index=False)"
   ]
  },
  {
   "cell_type": "code",
   "execution_count": null,
   "metadata": {
    "id": "DyE-y2ahhRHy"
   },
   "outputs": [],
   "source": []
  },
  {
   "cell_type": "code",
   "execution_count": null,
   "metadata": {
    "id": "5ZbKMK8ohRag"
   },
   "outputs": [],
   "source": []
  },
  {
   "cell_type": "code",
   "execution_count": null,
   "metadata": {
    "colab": {
     "base_uri": "https://localhost:8080/",
     "height": 648
    },
    "id": "cJyuIHio7qMJ",
    "outputId": "98c48595-0064-4d83-ff86-9063de01c113"
   },
   "outputs": [
    {
     "data": {
      "text/html": [
       "<div>\n",
       "<style scoped>\n",
       "    .dataframe tbody tr th:only-of-type {\n",
       "        vertical-align: middle;\n",
       "    }\n",
       "\n",
       "    .dataframe tbody tr th {\n",
       "        vertical-align: top;\n",
       "    }\n",
       "\n",
       "    .dataframe thead th {\n",
       "        text-align: right;\n",
       "    }\n",
       "</style>\n",
       "<table border=\"1\" class=\"dataframe\">\n",
       "  <thead>\n",
       "    <tr style=\"text-align: right;\">\n",
       "      <th></th>\n",
       "      <th>tweet_id</th>\n",
       "      <th>date</th>\n",
       "      <th>text</th>\n",
       "      <th>month</th>\n",
       "      <th>tidy_text</th>\n",
       "      <th>language</th>\n",
       "    </tr>\n",
       "  </thead>\n",
       "  <tbody>\n",
       "    <tr>\n",
       "      <th>10</th>\n",
       "      <td>10</td>\n",
       "      <td>2020-09-29</td>\n",
       "      <td>@QnA18MENFESS Hai nder. Kamu ada low back pain kayanya ya? Coba baca2 tentang itu. Trus coba diperhatiin kamu ada tanda2 skolio ga.</td>\n",
       "      <td>2020-09</td>\n",
       "      <td>@QnA18MENFESS Hai nder. Kamu ada low back pain kayanya ya? Coba baca2 tentang itu. Trus coba diperhatiin kamu ada tanda2 skolio ga.</td>\n",
       "      <td>id</td>\n",
       "    </tr>\n",
       "    <tr>\n",
       "      <th>49</th>\n",
       "      <td>49</td>\n",
       "      <td>2020-09-29</td>\n",
       "      <td>Badtrip gyud kay ni akong maduf*kin back pain bay</td>\n",
       "      <td>2020-09</td>\n",
       "      <td>Badtrip gyud kay ni akong maduf*kin back pain bay</td>\n",
       "      <td>tl</td>\n",
       "    </tr>\n",
       "    <tr>\n",
       "      <th>59</th>\n",
       "      <td>59</td>\n",
       "      <td>2020-09-29</td>\n",
       "      <td>本当に結果だけが重要です。 いくら頑張っても受からなかったらうんこなんです。 #共感したらRT</td>\n",
       "      <td>2020-09</td>\n",
       "      <td>本当に結果だけが重要です。 いくら頑張っても受からなかったらうんこなんです。 #共感したらRT</td>\n",
       "      <td>ja</td>\n",
       "    </tr>\n",
       "    <tr>\n",
       "      <th>83</th>\n",
       "      <td>83</td>\n",
       "      <td>2020-09-29</td>\n",
       "      <td>maika's back = pain twitter.com/eli_miranduh/s…</td>\n",
       "      <td>2020-09</td>\n",
       "      <td>maika's back = pain  _RETWEET…</td>\n",
       "      <td>id</td>\n",
       "    </tr>\n",
       "    <tr>\n",
       "      <th>87</th>\n",
       "      <td>87</td>\n",
       "      <td>2020-09-29</td>\n",
       "      <td>Pain. \\n\\nBack pain.</td>\n",
       "      <td>2020-09</td>\n",
       "      <td>Pain. Back pain.</td>\n",
       "      <td>id</td>\n",
       "    </tr>\n",
       "    <tr>\n",
       "      <th>...</th>\n",
       "      <td>...</td>\n",
       "      <td>...</td>\n",
       "      <td>...</td>\n",
       "      <td>...</td>\n",
       "      <td>...</td>\n",
       "      <td>...</td>\n",
       "    </tr>\n",
       "    <tr>\n",
       "      <th>530220</th>\n",
       "      <td>530220</td>\n",
       "      <td>2019-03-01</td>\n",
       "      <td>Back pain + Migraine 😭 1 linggo ng laging ganto ah.</td>\n",
       "      <td>2019-03</td>\n",
       "      <td>Back pain + Migraine :loudly crying face: 1 linggo ng laging ganto ah.</td>\n",
       "      <td>tl</td>\n",
       "    </tr>\n",
       "    <tr>\n",
       "      <th>530231</th>\n",
       "      <td>530231</td>\n",
       "      <td>2019-03-01</td>\n",
       "      <td>Di makabangon sa sobrang sakit. 😭 #Backpain</td>\n",
       "      <td>2019-03</td>\n",
       "      <td>Di makabangon sa sobrang sakit. :loudly crying face: #Backpain</td>\n",
       "      <td>tl</td>\n",
       "    </tr>\n",
       "    <tr>\n",
       "      <th>530235</th>\n",
       "      <td>530235</td>\n",
       "      <td>2019-03-01</td>\n",
       "      <td>Back pain!!!</td>\n",
       "      <td>2019-03</td>\n",
       "      <td>Back pain!!</td>\n",
       "      <td>id</td>\n",
       "    </tr>\n",
       "    <tr>\n",
       "      <th>530245</th>\n",
       "      <td>530245</td>\n",
       "      <td>2019-03-01</td>\n",
       "      <td>腰痛や背中、肩や首、Back Painにはパーフェクトチェア。\\n運動後のリカバリーにも最適、アメリカではオリンピックメダリストやトップアスリートが使用している高級リクライニングチェア！\\n\\nhumantouchjapan.com/product/perfec…</td>\n",
       "      <td>2019-03</td>\n",
       "      <td>腰痛や背中、肩や首、Back Painにはパーフェクトチェア。 運動後のリカバリーにも最適、アメリカではオリンピックメダリストやトップアスリートが使用している高級リクライニングチェア！  _URL…</td>\n",
       "      <td>ja</td>\n",
       "    </tr>\n",
       "    <tr>\n",
       "      <th>530279</th>\n",
       "      <td>530279</td>\n",
       "      <td>2019-03-01</td>\n",
       "      <td>@mafilabucuas Ma feel na nako ang back pain *bug.at kaayo HAHAHAH</td>\n",
       "      <td>2019-03</td>\n",
       "      <td>@mafilabucuas Ma feel na nako ang back pain *bug.at kaayo HAHAH</td>\n",
       "      <td>tl</td>\n",
       "    </tr>\n",
       "  </tbody>\n",
       "</table>\n",
       "<p>30442 rows × 6 columns</p>\n",
       "</div>"
      ],
      "text/plain": [
       "        tweet_id  ... language\n",
       "10      10        ...  id     \n",
       "49      49        ...  tl     \n",
       "59      59        ...  ja     \n",
       "83      83        ...  id     \n",
       "87      87        ...  id     \n",
       "...     ..        ...  ..     \n",
       "530220  530220    ...  tl     \n",
       "530231  530231    ...  tl     \n",
       "530235  530235    ...  id     \n",
       "530245  530245    ...  ja     \n",
       "530279  530279    ...  tl     \n",
       "\n",
       "[30442 rows x 6 columns]"
      ]
     },
     "execution_count": 62,
     "metadata": {
      "tags": []
     },
     "output_type": "execute_result"
    }
   ],
   "source": [
    "# Some more efforts on non_english tweets\n",
    "\n",
    "non_english_tweet"
   ]
  },
  {
   "cell_type": "code",
   "execution_count": null,
   "metadata": {
    "id": "kNP72g1RTyTk"
   },
   "outputs": [],
   "source": [
    "non_english_tweet = non_english_tweet.dropna(axis=0)"
   ]
  },
  {
   "cell_type": "code",
   "execution_count": null,
   "metadata": {
    "id": "rG9X478AYWlV"
   },
   "outputs": [],
   "source": [
    "def CleanText(text):\n",
    "    text = str(text)\n",
    "    text = text.strip('\\n')   #removing from the start and end\n",
    "    text = text.replace('\\n','') #in the middle of the string\n",
    "    \n",
    "    return text.lower()"
   ]
  },
  {
   "cell_type": "code",
   "execution_count": null,
   "metadata": {
    "id": "JCcD3HTQYbTd"
   },
   "outputs": [],
   "source": [
    "non_english_tweet['tidy_text'] = non_english_tweet['tidy_text'].apply(lambda x: CleanText(x))"
   ]
  },
  {
   "cell_type": "code",
   "execution_count": null,
   "metadata": {
    "id": "J3wVEyvbYbXo"
   },
   "outputs": [],
   "source": [
    "#non_english_tweet['tidy_text'] = non_english_tweet['tidy_text'].str.replace('back pain(?:|[$%!;+])', 'backpain...', regex=True)"
   ]
  },
  {
   "cell_type": "code",
   "execution_count": null,
   "metadata": {
    "colab": {
     "base_uri": "https://localhost:8080/",
     "height": 648
    },
    "id": "1pOT13IwYbfp",
    "outputId": "80d8b782-c06f-4b06-9cba-af37709844f5"
   },
   "outputs": [
    {
     "data": {
      "text/html": [
       "<div>\n",
       "<style scoped>\n",
       "    .dataframe tbody tr th:only-of-type {\n",
       "        vertical-align: middle;\n",
       "    }\n",
       "\n",
       "    .dataframe tbody tr th {\n",
       "        vertical-align: top;\n",
       "    }\n",
       "\n",
       "    .dataframe thead th {\n",
       "        text-align: right;\n",
       "    }\n",
       "</style>\n",
       "<table border=\"1\" class=\"dataframe\">\n",
       "  <thead>\n",
       "    <tr style=\"text-align: right;\">\n",
       "      <th></th>\n",
       "      <th>tweet_id</th>\n",
       "      <th>date</th>\n",
       "      <th>text</th>\n",
       "      <th>month</th>\n",
       "      <th>tidy_text</th>\n",
       "      <th>language</th>\n",
       "    </tr>\n",
       "  </thead>\n",
       "  <tbody>\n",
       "    <tr>\n",
       "      <th>10</th>\n",
       "      <td>10</td>\n",
       "      <td>2020-09-29</td>\n",
       "      <td>@QnA18MENFESS Hai nder. Kamu ada low back pain kayanya ya? Coba baca2 tentang itu. Trus coba diperhatiin kamu ada tanda2 skolio ga.</td>\n",
       "      <td>2020-09</td>\n",
       "      <td>hai nder. kamu ada low back pain kayanya ya? coba baca2 tentang itu. trus coba diperhatiin kamu ada tanda2 skolio ga.</td>\n",
       "      <td>id</td>\n",
       "    </tr>\n",
       "    <tr>\n",
       "      <th>49</th>\n",
       "      <td>49</td>\n",
       "      <td>2020-09-29</td>\n",
       "      <td>Badtrip gyud kay ni akong maduf*kin back pain bay</td>\n",
       "      <td>2020-09</td>\n",
       "      <td>badtrip gyud kay ni akong maduf*kin back pain bay</td>\n",
       "      <td>tl</td>\n",
       "    </tr>\n",
       "    <tr>\n",
       "      <th>59</th>\n",
       "      <td>59</td>\n",
       "      <td>2020-09-29</td>\n",
       "      <td>本当に結果だけが重要です。 いくら頑張っても受からなかったらうんこなんです。 #共感したらRT</td>\n",
       "      <td>2020-09</td>\n",
       "      <td>本当に結果だけが重要です。 いくら頑張っても受からなかったらうんこなんです。 #共感したらrt</td>\n",
       "      <td>ja</td>\n",
       "    </tr>\n",
       "    <tr>\n",
       "      <th>83</th>\n",
       "      <td>83</td>\n",
       "      <td>2020-09-29</td>\n",
       "      <td>maika's back = pain twitter.com/eli_miranduh/s…</td>\n",
       "      <td>2020-09</td>\n",
       "      <td>maika's back = pain  _retweet…</td>\n",
       "      <td>id</td>\n",
       "    </tr>\n",
       "    <tr>\n",
       "      <th>87</th>\n",
       "      <td>87</td>\n",
       "      <td>2020-09-29</td>\n",
       "      <td>Pain. \\n\\nBack pain.</td>\n",
       "      <td>2020-09</td>\n",
       "      <td>pain. back pain.</td>\n",
       "      <td>id</td>\n",
       "    </tr>\n",
       "    <tr>\n",
       "      <th>...</th>\n",
       "      <td>...</td>\n",
       "      <td>...</td>\n",
       "      <td>...</td>\n",
       "      <td>...</td>\n",
       "      <td>...</td>\n",
       "      <td>...</td>\n",
       "    </tr>\n",
       "    <tr>\n",
       "      <th>530220</th>\n",
       "      <td>530220</td>\n",
       "      <td>2019-03-01</td>\n",
       "      <td>Back pain + Migraine 😭 1 linggo ng laging ganto ah.</td>\n",
       "      <td>2019-03</td>\n",
       "      <td>back pain + migraine :loudly crying face: 1 linggo ng laging ganto ah.</td>\n",
       "      <td>tl</td>\n",
       "    </tr>\n",
       "    <tr>\n",
       "      <th>530231</th>\n",
       "      <td>530231</td>\n",
       "      <td>2019-03-01</td>\n",
       "      <td>Di makabangon sa sobrang sakit. 😭 #Backpain</td>\n",
       "      <td>2019-03</td>\n",
       "      <td>di makabangon sa sobrang sakit. :loudly crying face: #backpain</td>\n",
       "      <td>tl</td>\n",
       "    </tr>\n",
       "    <tr>\n",
       "      <th>530235</th>\n",
       "      <td>530235</td>\n",
       "      <td>2019-03-01</td>\n",
       "      <td>Back pain!!!</td>\n",
       "      <td>2019-03</td>\n",
       "      <td>back pain!!</td>\n",
       "      <td>id</td>\n",
       "    </tr>\n",
       "    <tr>\n",
       "      <th>530245</th>\n",
       "      <td>530245</td>\n",
       "      <td>2019-03-01</td>\n",
       "      <td>腰痛や背中、肩や首、Back Painにはパーフェクトチェア。\\n運動後のリカバリーにも最適、アメリカではオリンピックメダリストやトップアスリートが使用している高級リクライニングチェア！\\n\\nhumantouchjapan.com/product/perfec…</td>\n",
       "      <td>2019-03</td>\n",
       "      <td>腰痛や背中、肩や首、back painにはパーフェクトチェア。 運動後のリカバリーにも最適、アメリカではオリンピックメダリストやトップアスリートが使用している高級リクライニングチェア！  _url…</td>\n",
       "      <td>ja</td>\n",
       "    </tr>\n",
       "    <tr>\n",
       "      <th>530279</th>\n",
       "      <td>530279</td>\n",
       "      <td>2019-03-01</td>\n",
       "      <td>@mafilabucuas Ma feel na nako ang back pain *bug.at kaayo HAHAHAH</td>\n",
       "      <td>2019-03</td>\n",
       "      <td>ma feel na nako ang back pain *bug.at kaayo hahah</td>\n",
       "      <td>tl</td>\n",
       "    </tr>\n",
       "  </tbody>\n",
       "</table>\n",
       "<p>30442 rows × 6 columns</p>\n",
       "</div>"
      ],
      "text/plain": [
       "        tweet_id  ... language\n",
       "10      10        ...  id     \n",
       "49      49        ...  tl     \n",
       "59      59        ...  ja     \n",
       "83      83        ...  id     \n",
       "87      87        ...  id     \n",
       "...     ..        ...  ..     \n",
       "530220  530220    ...  tl     \n",
       "530231  530231    ...  tl     \n",
       "530235  530235    ...  id     \n",
       "530245  530245    ...  ja     \n",
       "530279  530279    ...  tl     \n",
       "\n",
       "[30442 rows x 6 columns]"
      ]
     },
     "execution_count": 67,
     "metadata": {
      "tags": []
     },
     "output_type": "execute_result"
    }
   ],
   "source": [
    "non_english_tweet['tidy_text'] = non_english_tweet['tidy_text'].str.replace('@[^\\s]+', '', regex=True)\n",
    "non_english_tweet"
   ]
  },
  {
   "cell_type": "code",
   "execution_count": null,
   "metadata": {
    "id": "eRqB69TsYbkS"
   },
   "outputs": [],
   "source": [
    "# List of tweets abbreviations \n",
    "\n",
    "contractions = {\n",
    "\"afaik\": \"as far as i know\",\"fr\": \"friend\", \"b/c\": \"because\",\"bfn\": \"bye for now\", \"yo\": \"years old\", \"y/o\": \"years old\", \"iz\": \"is\", \"izz\":\"is\", \"br\": \"best regards\", \"btw\": \"by the way\", \n",
    "\"dm\": \"direct message\", \"em\": \"email\", \"fb\": \"facebook\", \"ftf\": \"face to face\", \"ftl\": \"for the loss\",\n",
    "\"ftw\": \"for the win\", \"fwiw\": \"for what it is worth\", \"hth\": \"hope that helps\", \"imho\": \"in my humble opinion\",\n",
    "\"imo\": \"in my opinion\", \"irl\": \"in real life\", \"jv\": \"joint venture\", \"j/k\": \"just kidding\", \"li\": \"linkedin\",\n",
    "\"lmao\": \"laughing my ass off\", \"lmk\": \"let me know\", \"lol\": \"laughing out loud\", \"mt\": \"modified tweet\",\n",
    "\"nsfw\": \"not safe for work\", \"oh\": \"overheard\", \"omfg\": \"oh my fuking god\", \"omg\": \"oh my god\", \"prt\": \"partial retweet\",\n",
    "\"rthx\": \"thanks for the retweet\", \"sob\": \"son of a bitch\", \"tmb\": \"tweet me back\", \"tmi\": \"too much information\",\n",
    "\"wth\": \"what the hell\", \"ymmv\": \"your mileage may vary\", \"yw\": \"you are welcome\", \"til\": \"today i learned\",\n",
    "\"cx\": \"correction\", \"rtq\": \"read the question\", \"mf\": \"mother fucker\", \"im\": \"i am\", \"youre\": \"you are\",\n",
    "\"can't\": \"cannot\", \"cant\": \"cannot\", \"could've\": \"could have\", \"couldn't\": \"could not\", \"couldnt\": \"could not\",\n",
    "\"didn't\": \"did not\", \"doesn't\": \"does not\", \"don't\": \"do not\", \"didnt\": \"did not\", \"doesnt\": \"does not\",\n",
    "\"dont\": \"do not\", \"hadn't\": \"had not\", \"hadnt\": \"had not\", \"hasn't\": \"has not\", \"haven't\": \"have not\",\n",
    "\"hasnt\": \"has not\", \"havent\": \"have not\", \"he'll\": \"he will\", \"hell\" : \"he will\", \"how'd\": \"how did\", \n",
    "\"how'd'y\": \"how do you\", \"how'll\": \"how will\", \"how's\": \"how has / how is\", \"i'd\": \"I had / I would\",\n",
    "\"i'd've\": \"I would have\", \"i'll\": \"I shall / I will\", \"i'm\": \"I am\", \"i've\": \"I have\", \"isn't\": \"is not\", \"isnt\": \"is not\"\n",
    "}"
   ]
  },
  {
   "cell_type": "code",
   "execution_count": null,
   "metadata": {
    "id": "Yj5V6JB_ZFAG"
   },
   "outputs": [],
   "source": [
    "def ReplaceWord(text):\n",
    "\n",
    "    for word in text.split():\n",
    "        if word in contractions:\n",
    "            text = text.replace(word, contractions[word.lower()])\n",
    "            \n",
    "    return text"
   ]
  },
  {
   "cell_type": "code",
   "execution_count": null,
   "metadata": {
    "id": "G2G3aTsMZFIO"
   },
   "outputs": [],
   "source": [
    "non_english_tweet['tidy_text'] = non_english_tweet['tidy_text'].apply(lambda x: ReplaceWord(x))"
   ]
  },
  {
   "cell_type": "code",
   "execution_count": null,
   "metadata": {
    "colab": {
     "base_uri": "https://localhost:8080/",
     "height": 648
    },
    "id": "1-yR3O-4ZFQx",
    "outputId": "e7216af3-0cbf-4ff2-9d52-9e28e07ac042"
   },
   "outputs": [
    {
     "data": {
      "text/html": [
       "<div>\n",
       "<style scoped>\n",
       "    .dataframe tbody tr th:only-of-type {\n",
       "        vertical-align: middle;\n",
       "    }\n",
       "\n",
       "    .dataframe tbody tr th {\n",
       "        vertical-align: top;\n",
       "    }\n",
       "\n",
       "    .dataframe thead th {\n",
       "        text-align: right;\n",
       "    }\n",
       "</style>\n",
       "<table border=\"1\" class=\"dataframe\">\n",
       "  <thead>\n",
       "    <tr style=\"text-align: right;\">\n",
       "      <th></th>\n",
       "      <th>tweet_id</th>\n",
       "      <th>date</th>\n",
       "      <th>text</th>\n",
       "      <th>month</th>\n",
       "      <th>tidy_text</th>\n",
       "      <th>language</th>\n",
       "    </tr>\n",
       "  </thead>\n",
       "  <tbody>\n",
       "    <tr>\n",
       "      <th>10</th>\n",
       "      <td>10</td>\n",
       "      <td>2020-09-29</td>\n",
       "      <td>@QnA18MENFESS Hai nder. Kamu ada low back pain kayanya ya? Coba baca2 tentang itu. Trus coba diperhatiin kamu ada tanda2 skolio ga.</td>\n",
       "      <td>2020-09</td>\n",
       "      <td>hai nder. kamu ada low back pain kayanya ya? coba baca2 tentang itu. trus coba diperhatiin kamu ada tanda2 skolio ga.</td>\n",
       "      <td>id</td>\n",
       "    </tr>\n",
       "    <tr>\n",
       "      <th>49</th>\n",
       "      <td>49</td>\n",
       "      <td>2020-09-29</td>\n",
       "      <td>Badtrip gyud kay ni akong maduf*kin back pain bay</td>\n",
       "      <td>2020-09</td>\n",
       "      <td>badtrip gyud kay ni akong maduf*kin back pain bay</td>\n",
       "      <td>tl</td>\n",
       "    </tr>\n",
       "    <tr>\n",
       "      <th>59</th>\n",
       "      <td>59</td>\n",
       "      <td>2020-09-29</td>\n",
       "      <td>本当に結果だけが重要です。 いくら頑張っても受からなかったらうんこなんです。 #共感したらRT</td>\n",
       "      <td>2020-09</td>\n",
       "      <td>本当に結果だけが重要です。 いくら頑張っても受からなかったらうんこなんです。 #共感したらrt</td>\n",
       "      <td>ja</td>\n",
       "    </tr>\n",
       "    <tr>\n",
       "      <th>83</th>\n",
       "      <td>83</td>\n",
       "      <td>2020-09-29</td>\n",
       "      <td>maika's back = pain twitter.com/eli_miranduh/s…</td>\n",
       "      <td>2020-09</td>\n",
       "      <td>maika's back = pain  _retweet…</td>\n",
       "      <td>en</td>\n",
       "    </tr>\n",
       "    <tr>\n",
       "      <th>87</th>\n",
       "      <td>87</td>\n",
       "      <td>2020-09-29</td>\n",
       "      <td>Pain. \\n\\nBack pain.</td>\n",
       "      <td>2020-09</td>\n",
       "      <td>pain. back pain.</td>\n",
       "      <td>id</td>\n",
       "    </tr>\n",
       "    <tr>\n",
       "      <th>...</th>\n",
       "      <td>...</td>\n",
       "      <td>...</td>\n",
       "      <td>...</td>\n",
       "      <td>...</td>\n",
       "      <td>...</td>\n",
       "      <td>...</td>\n",
       "    </tr>\n",
       "    <tr>\n",
       "      <th>530220</th>\n",
       "      <td>530220</td>\n",
       "      <td>2019-03-01</td>\n",
       "      <td>Back pain + Migraine 😭 1 linggo ng laging ganto ah.</td>\n",
       "      <td>2019-03</td>\n",
       "      <td>back pain + migraine :loudly crying face: 1 linggo ng laging ganto ah.</td>\n",
       "      <td>tl</td>\n",
       "    </tr>\n",
       "    <tr>\n",
       "      <th>530231</th>\n",
       "      <td>530231</td>\n",
       "      <td>2019-03-01</td>\n",
       "      <td>Di makabangon sa sobrang sakit. 😭 #Backpain</td>\n",
       "      <td>2019-03</td>\n",
       "      <td>di makabangon sa sobrang sakit. :loudly crying face: #backpain</td>\n",
       "      <td>tl</td>\n",
       "    </tr>\n",
       "    <tr>\n",
       "      <th>530235</th>\n",
       "      <td>530235</td>\n",
       "      <td>2019-03-01</td>\n",
       "      <td>Back pain!!!</td>\n",
       "      <td>2019-03</td>\n",
       "      <td>back pain!!</td>\n",
       "      <td>en</td>\n",
       "    </tr>\n",
       "    <tr>\n",
       "      <th>530245</th>\n",
       "      <td>530245</td>\n",
       "      <td>2019-03-01</td>\n",
       "      <td>腰痛や背中、肩や首、Back Painにはパーフェクトチェア。\\n運動後のリカバリーにも最適、アメリカではオリンピックメダリストやトップアスリートが使用している高級リクライニングチェア！\\n\\nhumantouchjapan.com/product/perfec…</td>\n",
       "      <td>2019-03</td>\n",
       "      <td>腰痛や背中、肩や首、back painにはパーフェクトチェア。 運動後のリカバリーにも最適、アメリカではオリンピックメダリストやトップアスリートが使用している高級リクライニングチェア！  _url…</td>\n",
       "      <td>ja</td>\n",
       "    </tr>\n",
       "    <tr>\n",
       "      <th>530279</th>\n",
       "      <td>530279</td>\n",
       "      <td>2019-03-01</td>\n",
       "      <td>@mafilabucuas Ma feel na nako ang back pain *bug.at kaayo HAHAHAH</td>\n",
       "      <td>2019-03</td>\n",
       "      <td>ma feel na nako ang back pain *bug.at kaayo hahah</td>\n",
       "      <td>tl</td>\n",
       "    </tr>\n",
       "  </tbody>\n",
       "</table>\n",
       "<p>30442 rows × 6 columns</p>\n",
       "</div>"
      ],
      "text/plain": [
       "        tweet_id  ... language\n",
       "10      10        ...  id     \n",
       "49      49        ...  tl     \n",
       "59      59        ...  ja     \n",
       "83      83        ...  en     \n",
       "87      87        ...  id     \n",
       "...     ..        ...  ..     \n",
       "530220  530220    ...  tl     \n",
       "530231  530231    ...  tl     \n",
       "530235  530235    ...  en     \n",
       "530245  530245    ...  ja     \n",
       "530279  530279    ...  tl     \n",
       "\n",
       "[30442 rows x 6 columns]"
      ]
     },
     "execution_count": 73,
     "metadata": {
      "tags": []
     },
     "output_type": "execute_result"
    }
   ],
   "source": [
    "non_english_tweet['language'] = non_english_tweet['tidy_text'].apply(lambda x:kfdetect(x))\n",
    "non_english_tweet"
   ]
  },
  {
   "cell_type": "code",
   "execution_count": null,
   "metadata": {
    "colab": {
     "base_uri": "https://localhost:8080/"
    },
    "id": "MagECLVZZFOM",
    "outputId": "e1b97d54-a75d-4da2-febe-060d8b6cb158"
   },
   "outputs": [
    {
     "data": {
      "text/plain": [
       "25538"
      ]
     },
     "execution_count": 74,
     "metadata": {
      "tags": []
     },
     "output_type": "execute_result"
    }
   ],
   "source": [
    "non_english = non_english_tweet[non_english_tweet['language'] != 'en']\n",
    "len(non_english)"
   ]
  },
  {
   "cell_type": "code",
   "execution_count": null,
   "metadata": {
    "colab": {
     "base_uri": "https://localhost:8080/",
     "height": 631
    },
    "id": "PlHBiI5kZFNA",
    "outputId": "37792728-7aee-49a3-e27a-90f04a72cec2"
   },
   "outputs": [
    {
     "data": {
      "text/html": [
       "<div>\n",
       "<style scoped>\n",
       "    .dataframe tbody tr th:only-of-type {\n",
       "        vertical-align: middle;\n",
       "    }\n",
       "\n",
       "    .dataframe tbody tr th {\n",
       "        vertical-align: top;\n",
       "    }\n",
       "\n",
       "    .dataframe thead th {\n",
       "        text-align: right;\n",
       "    }\n",
       "</style>\n",
       "<table border=\"1\" class=\"dataframe\">\n",
       "  <thead>\n",
       "    <tr style=\"text-align: right;\">\n",
       "      <th></th>\n",
       "      <th>tweet_id</th>\n",
       "      <th>date</th>\n",
       "      <th>text</th>\n",
       "      <th>month</th>\n",
       "      <th>tidy_text</th>\n",
       "      <th>language</th>\n",
       "    </tr>\n",
       "  </thead>\n",
       "  <tbody>\n",
       "    <tr>\n",
       "      <th>83</th>\n",
       "      <td>83</td>\n",
       "      <td>2020-09-29</td>\n",
       "      <td>maika's back = pain twitter.com/eli_miranduh/s…</td>\n",
       "      <td>2020-09</td>\n",
       "      <td>maika's back = pain  _retweet…</td>\n",
       "      <td>en</td>\n",
       "    </tr>\n",
       "    <tr>\n",
       "      <th>284</th>\n",
       "      <td>284</td>\n",
       "      <td>2020-09-29</td>\n",
       "      <td>@eishakhaliq FR HELP THE BACK PAIN TOO</td>\n",
       "      <td>2020-09</td>\n",
       "      <td>friend help the back pain too</td>\n",
       "      <td>en</td>\n",
       "    </tr>\n",
       "    <tr>\n",
       "      <th>402</th>\n",
       "      <td>402</td>\n",
       "      <td>2020-09-29</td>\n",
       "      <td>@proudlynalayak i just don't want back pain</td>\n",
       "      <td>2020-09</td>\n",
       "      <td>i just do not want back pain</td>\n",
       "      <td>en</td>\n",
       "    </tr>\n",
       "    <tr>\n",
       "      <th>570</th>\n",
       "      <td>570</td>\n",
       "      <td>2020-09-29</td>\n",
       "      <td>okay bACK PAIN IN YOUR AREA IT IS</td>\n",
       "      <td>2020-09</td>\n",
       "      <td>okay back pain in your area it is</td>\n",
       "      <td>en</td>\n",
       "    </tr>\n",
       "    <tr>\n",
       "      <th>576</th>\n",
       "      <td>576</td>\n",
       "      <td>2020-09-29</td>\n",
       "      <td>Backpain izz real🤧</td>\n",
       "      <td>2020-09</td>\n",
       "      <td>backpain is real:sneezing face:</td>\n",
       "      <td>en</td>\n",
       "    </tr>\n",
       "    <tr>\n",
       "      <th>...</th>\n",
       "      <td>...</td>\n",
       "      <td>...</td>\n",
       "      <td>...</td>\n",
       "      <td>...</td>\n",
       "      <td>...</td>\n",
       "      <td>...</td>\n",
       "    </tr>\n",
       "    <tr>\n",
       "      <th>529826</th>\n",
       "      <td>529826</td>\n",
       "      <td>2019-03-01</td>\n",
       "      <td>@OSCARanking A back pain.</td>\n",
       "      <td>2019-03</td>\n",
       "      <td>a back pain.</td>\n",
       "      <td>en</td>\n",
       "    </tr>\n",
       "    <tr>\n",
       "      <th>529878</th>\n",
       "      <td>529878</td>\n",
       "      <td>2019-03-01</td>\n",
       "      <td>@shyamMSDian07 @msdhoni 2007 nundi MS ki back pain start ayyndhi ala ani skip cheyakunda max matches aadadu.. On field lo unappudu okkasari ayna stretch chesthune untadu.. Ee injury lite repu aadathadu💪</td>\n",
       "      <td>2019-03</td>\n",
       "      <td>2007 nundi ms ki back pain start ayyndhi ala ani skip cheyakunda max matches aadadu.. on field lo unappudu okkasari ayna stretch chesthune untadu.. ee injury lite repu aadathadu:flexed biceps:</td>\n",
       "      <td>en</td>\n",
       "    </tr>\n",
       "    <tr>\n",
       "      <th>529963</th>\n",
       "      <td>529963</td>\n",
       "      <td>2019-03-01</td>\n",
       "      <td>Backpain https://t.co/FFjIdXQX4m</td>\n",
       "      <td>2019-03</td>\n",
       "      <td>backpain _image</td>\n",
       "      <td>en</td>\n",
       "    </tr>\n",
       "    <tr>\n",
       "      <th>530110</th>\n",
       "      <td>530110</td>\n",
       "      <td>2019-03-01</td>\n",
       "      <td>@salonpas No more back pain!!</td>\n",
       "      <td>2019-03</td>\n",
       "      <td>no more back pain!!</td>\n",
       "      <td>en</td>\n",
       "    </tr>\n",
       "    <tr>\n",
       "      <th>530235</th>\n",
       "      <td>530235</td>\n",
       "      <td>2019-03-01</td>\n",
       "      <td>Back pain!!!</td>\n",
       "      <td>2019-03</td>\n",
       "      <td>back pain!!</td>\n",
       "      <td>en</td>\n",
       "    </tr>\n",
       "  </tbody>\n",
       "</table>\n",
       "<p>4904 rows × 6 columns</p>\n",
       "</div>"
      ],
      "text/plain": [
       "        tweet_id  ... language\n",
       "83      83        ...  en     \n",
       "284     284       ...  en     \n",
       "402     402       ...  en     \n",
       "570     570       ...  en     \n",
       "576     576       ...  en     \n",
       "...     ...       ...  ..     \n",
       "529826  529826    ...  en     \n",
       "529878  529878    ...  en     \n",
       "529963  529963    ...  en     \n",
       "530110  530110    ...  en     \n",
       "530235  530235    ...  en     \n",
       "\n",
       "[4904 rows x 6 columns]"
      ]
     },
     "execution_count": 75,
     "metadata": {
      "tags": []
     },
     "output_type": "execute_result"
    }
   ],
   "source": [
    "english = non_english_tweet[non_english_tweet['language'] == 'en']\n",
    "english"
   ]
  },
  {
   "cell_type": "code",
   "execution_count": null,
   "metadata": {
    "id": "ky3X2hP7ZFFM"
   },
   "outputs": [],
   "source": [
    "non_english.to_excel('non_english_tweets.xlsx', index=False)"
   ]
  },
  {
   "cell_type": "code",
   "execution_count": null,
   "metadata": {
    "id": "SJ_4-z0GhbbX"
   },
   "outputs": [],
   "source": [
    "english.to_excel('english_tweets.xlsx', index=False)"
   ]
  },
  {
   "cell_type": "code",
   "execution_count": 1,
   "metadata": {
    "id": "diFm7XRthbr-"
   },
   "outputs": [],
   "source": []
  },
  {
   "cell_type": "code",
   "execution_count": null,
   "metadata": {
    "id": "dhK7Txnyrfb9"
   },
   "outputs": [],
   "source": []
  }
 ],
 "metadata": {
  "colab": {
   "name": "back_pain_preprocessing.ipynb",
   "provenance": []
  },
  "kernelspec": {
   "display_name": "Python 3",
   "language": "python",
   "name": "python3"
  },
  "language_info": {
   "codemirror_mode": {
    "name": "ipython",
    "version": 3
   },
   "file_extension": ".py",
   "mimetype": "text/x-python",
   "name": "python",
   "nbconvert_exporter": "python",
   "pygments_lexer": "ipython3",
   "version": "3.7.0"
  }
 },
 "nbformat": 4,
 "nbformat_minor": 1
}
